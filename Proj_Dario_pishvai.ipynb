{
 "cells": [
  {
   "cell_type": "markdown",
   "id": "0672c01d",
   "metadata": {},
   "source": [
    "# Analysis Example: Drug"
   ]
  },
  {
   "cell_type": "markdown",
   "id": "b0946f2e",
   "metadata": {},
   "source": [
    "Statistical Laboratory"
   ]
  },
  {
   "cell_type": "markdown",
   "id": "688f4bea",
   "metadata": {},
   "source": [
    "Dario Samuele Pishvai-University of Catania"
   ]
  },
  {
   "cell_type": "markdown",
   "id": "aba3f791",
   "metadata": {},
   "source": [
    "## Request"
   ]
  },
  {
   "cell_type": "markdown",
   "id": "d876d543",
   "metadata": {},
   "source": [
    "__Find a model that predicts the use of Drugs based on the patient  avaible features__"
   ]
  },
  {
   "cell_type": "markdown",
   "id": "987cb744",
   "metadata": {},
   "source": [
    "Have collected data about a set of patients, all of whom suffered from the same illness. During their course of treatment, each patient responded to one of 5 medications: __Drug A, Drug B, Drug c, Drug x and Drug y.__\n",
    "The job is to build a model to find out which drug might be appropriate for a future patient with the same illness. The feature sets of this dataset are Age, Sex, Blood Pressure, and Cholesterol of patients, and the target is the drug that each patient responded to."
   ]
  },
  {
   "cell_type": "markdown",
   "id": "68f65a43",
   "metadata": {},
   "source": [
    "The target feature are:"
   ]
  },
  {
   "cell_type": "markdown",
   "id": "bf7c827a",
   "metadata": {},
   "source": [
    "__•Drug type__\n",
    "\n",
    "__•Age__\n",
    "\n",
    "__•Sex__\n",
    "\n",
    "__•Blood Pressure Levels (BP)__\n",
    "\n",
    "__•Cholesterol Levels__\n",
    "\n",
    "__•Na to Potassium Ration__"
   ]
  },
  {
   "cell_type": "markdown",
   "id": "47d91da9",
   "metadata": {},
   "source": [
    "## Library "
   ]
  },
  {
   "cell_type": "code",
   "execution_count": 6,
   "id": "e029d2de",
   "metadata": {},
   "outputs": [],
   "source": [
    "library(Hmisc)"
   ]
  },
  {
   "cell_type": "code",
   "execution_count": 7,
   "id": "e6f5c8da",
   "metadata": {},
   "outputs": [],
   "source": [
    "library(corrplot)"
   ]
  },
  {
   "cell_type": "code",
   "execution_count": 3,
   "id": "f0ca65fd",
   "metadata": {},
   "outputs": [],
   "source": [
    "library(ggplot2)"
   ]
  },
  {
   "cell_type": "code",
   "execution_count": 4,
   "id": "8165ef74",
   "metadata": {},
   "outputs": [],
   "source": [
    "library(\"NbClust\")"
   ]
  },
  {
   "cell_type": "code",
   "execution_count": 5,
   "id": "01db48b2",
   "metadata": {},
   "outputs": [],
   "source": [
    "library(readr)"
   ]
  },
  {
   "cell_type": "markdown",
   "id": "892826b9",
   "metadata": {},
   "source": [
    "# __Feature analysis__"
   ]
  },
  {
   "cell_type": "code",
   "execution_count": 36,
   "id": "1853e3de",
   "metadata": {},
   "outputs": [
    {
     "name": "stderr",
     "output_type": "stream",
     "text": [
      "Parsed with column specification:\n",
      "cols(\n",
      "  Age = col_double(),\n",
      "  Sex = col_character(),\n",
      "  BP = col_character(),\n",
      "  Cholesterol = col_character(),\n",
      "  Na_to_K = col_double(),\n",
      "  Drug = col_character()\n",
      ")\n",
      "Warning message in data(drug200):\n",
      "\"data set 'drug200' not found\""
     ]
    },
    {
     "data": {
      "text/plain": [
       "      Age            Sex                 BP            Cholesterol       \n",
       " Min.   :15.00   Length:200         Length:200         Length:200        \n",
       " 1st Qu.:31.00   Class :character   Class :character   Class :character  \n",
       " Median :45.00   Mode  :character   Mode  :character   Mode  :character  \n",
       " Mean   :44.31                                                           \n",
       " 3rd Qu.:58.00                                                           \n",
       " Max.   :74.00                                                           \n",
       "    Na_to_K           Drug          \n",
       " Min.   : 6.269   Length:200        \n",
       " 1st Qu.:10.445   Class :character  \n",
       " Median :13.937   Mode  :character  \n",
       " Mean   :16.084                     \n",
       " 3rd Qu.:19.380                     \n",
       " Max.   :38.247                     "
      ]
     },
     "metadata": {},
     "output_type": "display_data"
    }
   ],
   "source": [
    "drug200 <- read_csv(\"C:/Users/acer/OneDrive/Desktop/drug200.csv\")\n",
    "data(drug200)\n",
    "summary(drug200)"
   ]
  },
  {
   "cell_type": "code",
   "execution_count": 37,
   "id": "e224bd43",
   "metadata": {},
   "outputs": [
    {
     "data": {
      "text/html": [
       "<table>\n",
       "<thead><tr><th scope=col>Age</th><th scope=col>Sex</th><th scope=col>BP</th><th scope=col>Cholesterol</th><th scope=col>Na_to_K</th><th scope=col>Drug</th></tr></thead>\n",
       "<tbody>\n",
       "\t<tr><td>23    </td><td>F     </td><td>HIGH  </td><td>HIGH  </td><td>25.355</td><td>DrugY </td></tr>\n",
       "\t<tr><td>47    </td><td>M     </td><td>LOW   </td><td>HIGH  </td><td>13.093</td><td>drugC </td></tr>\n",
       "\t<tr><td>47    </td><td>M     </td><td>LOW   </td><td>HIGH  </td><td>10.114</td><td>drugC </td></tr>\n",
       "\t<tr><td>28    </td><td>F     </td><td>NORMAL</td><td>HIGH  </td><td> 7.798</td><td>drugX </td></tr>\n",
       "\t<tr><td>61    </td><td>F     </td><td>LOW   </td><td>HIGH  </td><td>18.043</td><td>DrugY </td></tr>\n",
       "\t<tr><td>22    </td><td>F     </td><td>NORMAL</td><td>HIGH  </td><td> 8.607</td><td>drugX </td></tr>\n",
       "</tbody>\n",
       "</table>\n"
      ],
      "text/latex": [
       "\\begin{tabular}{r|llllll}\n",
       " Age & Sex & BP & Cholesterol & Na\\_to\\_K & Drug\\\\\n",
       "\\hline\n",
       "\t 23     & F      & HIGH   & HIGH   & 25.355 & DrugY \\\\\n",
       "\t 47     & M      & LOW    & HIGH   & 13.093 & drugC \\\\\n",
       "\t 47     & M      & LOW    & HIGH   & 10.114 & drugC \\\\\n",
       "\t 28     & F      & NORMAL & HIGH   &  7.798 & drugX \\\\\n",
       "\t 61     & F      & LOW    & HIGH   & 18.043 & DrugY \\\\\n",
       "\t 22     & F      & NORMAL & HIGH   &  8.607 & drugX \\\\\n",
       "\\end{tabular}\n"
      ],
      "text/markdown": [
       "\n",
       "| Age | Sex | BP | Cholesterol | Na_to_K | Drug |\n",
       "|---|---|---|---|---|---|\n",
       "| 23     | F      | HIGH   | HIGH   | 25.355 | DrugY  |\n",
       "| 47     | M      | LOW    | HIGH   | 13.093 | drugC  |\n",
       "| 47     | M      | LOW    | HIGH   | 10.114 | drugC  |\n",
       "| 28     | F      | NORMAL | HIGH   |  7.798 | drugX  |\n",
       "| 61     | F      | LOW    | HIGH   | 18.043 | DrugY  |\n",
       "| 22     | F      | NORMAL | HIGH   |  8.607 | drugX  |\n",
       "\n"
      ],
      "text/plain": [
       "  Age Sex BP     Cholesterol Na_to_K Drug \n",
       "1 23  F   HIGH   HIGH        25.355  DrugY\n",
       "2 47  M   LOW    HIGH        13.093  drugC\n",
       "3 47  M   LOW    HIGH        10.114  drugC\n",
       "4 28  F   NORMAL HIGH         7.798  drugX\n",
       "5 61  F   LOW    HIGH        18.043  DrugY\n",
       "6 22  F   NORMAL HIGH         8.607  drugX"
      ]
     },
     "metadata": {},
     "output_type": "display_data"
    },
    {
     "data": {
      "text/html": [
       "<ol class=list-inline>\n",
       "\t<li>'Age'</li>\n",
       "\t<li>'Sex'</li>\n",
       "\t<li>'BP'</li>\n",
       "\t<li>'Cholesterol'</li>\n",
       "\t<li>'Na_to_K'</li>\n",
       "\t<li>'Drug'</li>\n",
       "</ol>\n"
      ],
      "text/latex": [
       "\\begin{enumerate*}\n",
       "\\item 'Age'\n",
       "\\item 'Sex'\n",
       "\\item 'BP'\n",
       "\\item 'Cholesterol'\n",
       "\\item 'Na\\_to\\_K'\n",
       "\\item 'Drug'\n",
       "\\end{enumerate*}\n"
      ],
      "text/markdown": [
       "1. 'Age'\n",
       "2. 'Sex'\n",
       "3. 'BP'\n",
       "4. 'Cholesterol'\n",
       "5. 'Na_to_K'\n",
       "6. 'Drug'\n",
       "\n",
       "\n"
      ],
      "text/plain": [
       "[1] \"Age\"         \"Sex\"         \"BP\"          \"Cholesterol\" \"Na_to_K\"    \n",
       "[6] \"Drug\"       "
      ]
     },
     "metadata": {},
     "output_type": "display_data"
    },
    {
     "data": {
      "text/html": [
       "<ol class=list-inline>\n",
       "\t<li>200</li>\n",
       "\t<li>6</li>\n",
       "</ol>\n"
      ],
      "text/latex": [
       "\\begin{enumerate*}\n",
       "\\item 200\n",
       "\\item 6\n",
       "\\end{enumerate*}\n"
      ],
      "text/markdown": [
       "1. 200\n",
       "2. 6\n",
       "\n",
       "\n"
      ],
      "text/plain": [
       "[1] 200   6"
      ]
     },
     "metadata": {},
     "output_type": "display_data"
    }
   ],
   "source": [
    "head(drug200)\n",
    "names(drug200)\n",
    "dim(drug200)"
   ]
  },
  {
   "cell_type": "code",
   "execution_count": 38,
   "id": "085d4271",
   "metadata": {},
   "outputs": [
    {
     "data": {
      "text/plain": [
       "      Age             Sex             BP         Cholesterol   \n",
       " Min.   :15.00   Min.   :0.00   Min.   :0.000   Min.   :0.000  \n",
       " 1st Qu.:31.00   1st Qu.:0.00   1st Qu.:0.000   1st Qu.:0.000  \n",
       " Median :45.00   Median :1.00   Median :1.000   Median :1.000  \n",
       " Mean   :44.31   Mean   :0.52   Mean   :1.065   Mean   :0.515  \n",
       " 3rd Qu.:58.00   3rd Qu.:1.00   3rd Qu.:2.000   3rd Qu.:1.000  \n",
       " Max.   :74.00   Max.   :1.00   Max.   :2.000   Max.   :1.000  \n",
       "    Na_to_K            Drug      \n",
       " Min.   : 6.269   Min.   :0.000  \n",
       " 1st Qu.:10.445   1st Qu.:0.000  \n",
       " Median :13.937   Median :1.000  \n",
       " Mean   :16.084   Mean   :1.285  \n",
       " 3rd Qu.:19.380   3rd Qu.:2.000  \n",
       " Max.   :38.247   Max.   :4.000  "
      ]
     },
     "metadata": {},
     "output_type": "display_data"
    }
   ],
   "source": [
    "drug200$Sex[drug200$Sex == \"F\"]<- 0\n",
    "drug200$Sex[drug200$Sex == \"M\"]<- 1\n",
    "f<- drug200$Sex\n",
    "f<-strtoi(f)\n",
    "drug200$Sex<-f\n",
    "\n",
    "drug200$BP[drug200$BP == \"HIGH\"]<- 2\n",
    "drug200$BP[drug200$BP == \"NORMAL\"]<- 1\n",
    "drug200$BP[drug200$BP == \"LOW\"]<- 0\n",
    "y<- drug200$BP\n",
    "y<-strtoi(y)\n",
    "drug200$BP<-y\n",
    "\n",
    "drug200$Cholesterol[drug200$Cholesterol==\"HIGH\"]<- 1\n",
    "drug200$Cholesterol[drug200$Cholesterol==\"NORMAL\"]<- 0\n",
    "z<- drug200$Cholesterol\n",
    "z<-strtoi(z)\n",
    "drug200$Cholesterol<-z\n",
    "\n",
    "drug200$Drug[drug200$Drug==\"DrugY\"]<- 0\n",
    "drug200$Drug[drug200$Drug==\"drugC\"]<- 1\n",
    "drug200$Drug[drug200$Drug==\"drugX\"]<- 2\n",
    "drug200$Drug[drug200$Drug==\"drugA\"]<- 3\n",
    "drug200$Drug[drug200$Drug==\"drugB\"]<- 4\n",
    "k<- drug200$Drug\n",
    "k<-strtoi(k)\n",
    "drug200$Drug<-k\n",
    "\n",
    "summary(drug200)"
   ]
  },
  {
   "cell_type": "markdown",
   "id": "e6a51ef3",
   "metadata": {},
   "source": [
    "### __About Age__"
   ]
  },
  {
   "cell_type": "code",
   "execution_count": 39,
   "id": "3d8ea197",
   "metadata": {},
   "outputs": [
    {
     "data": {
      "text/plain": [
       "\n",
       "Call:\n",
       "\tdensity.default(x = drug200$Age)\n",
       "\n",
       "Data: drug200$Age (200 obs.);\tBandwidth 'bw' = 5.16\n",
       "\n",
       "       x                 y            \n",
       " Min.   :-0.4813   Min.   :2.501e-05  \n",
       " 1st Qu.:22.0094   1st Qu.:3.244e-03  \n",
       " Median :44.5000   Median :1.433e-02  \n",
       " Mean   :44.5000   Mean   :1.110e-02  \n",
       " 3rd Qu.:66.9906   3rd Qu.:1.727e-02  \n",
       " Max.   :89.4813   Max.   :1.882e-02  "
      ]
     },
     "metadata": {},
     "output_type": "display_data"
    },
    {
     "data": {
      "text/html": [
       "<strong>25%:</strong> 31"
      ],
      "text/latex": [
       "\\textbf{25\\textbackslash{}\\%:} 31"
      ],
      "text/markdown": [
       "**25%:** 31"
      ],
      "text/plain": [
       "25% \n",
       " 31 "
      ]
     },
     "metadata": {},
     "output_type": "display_data"
    },
    {
     "data": {
      "text/html": [
       "<strong>75%:</strong> 58"
      ],
      "text/latex": [
       "\\textbf{75\\textbackslash{}\\%:} 58"
      ],
      "text/markdown": [
       "**75%:** 58"
      ],
      "text/plain": [
       "75% \n",
       " 58 "
      ]
     },
     "metadata": {},
     "output_type": "display_data"
    }
   ],
   "source": [
    "density(drug200$Age)\n",
    "quantile(drug200$Age, 0.25)\n",
    "quantile(drug200$Age, 0.75)"
   ]
  },
  {
   "cell_type": "code",
   "execution_count": 40,
   "id": "ce041d3d",
   "metadata": {},
   "outputs": [
    {
     "data": {
      "image/png": "[encoded data removed]",
      "text/plain": [
       "Plot with title \"Age distribution\""
      ]
     },
     "metadata": {},
     "output_type": "display_data"
    }
   ],
   "source": [
    "par(mfrow=c(1,2)) \n",
    "hist(drug200$Age, main=\"Age distribution\", ylim=c(0,0.025), col=\"green\", freq = FALSE)\n",
    "lines(density(drug200$Age), col=\"red\")\n",
    "boxplot(drug200$Age)\n"
   ]
  },
  {
   "cell_type": "markdown",
   "id": "1cd69404",
   "metadata": {},
   "source": [
    "How we can see, the Age variable follows the norm distribution, in fact the mean and the median are very close"
   ]
  },
  {
   "cell_type": "markdown",
   "id": "e554807f",
   "metadata": {},
   "source": [
    "### __About Sex__"
   ]
  },
  {
   "cell_type": "code",
   "execution_count": 13,
   "id": "f7959224",
   "metadata": {},
   "outputs": [
    {
     "data": {
      "text/html": [
       "<dl class=dl-horizontal>\n",
       "\t<dt>0</dt>\n",
       "\t\t<dd>96</dd>\n",
       "\t<dt>1</dt>\n",
       "\t\t<dd>104</dd>\n",
       "</dl>\n"
      ],
      "text/latex": [
       "\\begin{description*}\n",
       "\\item[0] 96\n",
       "\\item[1] 104\n",
       "\\end{description*}\n"
      ],
      "text/markdown": [
       "0\n",
       ":   961\n",
       ":   104\n",
       "\n"
      ],
      "text/plain": [
       "  0   1 \n",
       " 96 104 "
      ]
     },
     "metadata": {},
     "output_type": "display_data"
    },
    {
     "data": {
      "image/png": "[encoded data removed]",
      "text/plain": [
       "Plot with title \"M and F\""
      ]
     },
     "metadata": {},
     "output_type": "display_data"
    }
   ],
   "source": [
    "fac_sex<-as.factor(drug200$Sex)\n",
    "summary(fac_sex)\n",
    "pie(table(drug200$Sex), labels =paste0( round((table(drug200$Sex)/length(drug200$Sex))*100,2) , \"%\") ,main = \"M and F\",col = rainbow(length(table(drug200$Sex))))\n",
    "legend(\"topright\", names(table(drug200$Sex)), cex = 0.8,\n",
    "       fill = rainbow(length(table(drug200$Sex))))"
   ]
  },
  {
   "cell_type": "markdown",
   "id": "63483a1f",
   "metadata": {},
   "source": [
    "### __About Blood Pressure Levels__"
   ]
  },
  {
   "cell_type": "code",
   "execution_count": 14,
   "id": "76994087",
   "metadata": {},
   "outputs": [
    {
     "data": {
      "text/html": [
       "<dl class=dl-horizontal>\n",
       "\t<dt>0</dt>\n",
       "\t\t<dd>64</dd>\n",
       "\t<dt>1</dt>\n",
       "\t\t<dd>59</dd>\n",
       "\t<dt>2</dt>\n",
       "\t\t<dd>77</dd>\n",
       "</dl>\n"
      ],
      "text/latex": [
       "\\begin{description*}\n",
       "\\item[0] 64\n",
       "\\item[1] 59\n",
       "\\item[2] 77\n",
       "\\end{description*}\n"
      ],
      "text/markdown": [
       "0\n",
       ":   641\n",
       ":   592\n",
       ":   77\n",
       "\n"
      ],
      "text/plain": [
       " 0  1  2 \n",
       "64 59 77 "
      ]
     },
     "metadata": {},
     "output_type": "display_data"
    },
    {
     "data": {
      "image/png": "[encoded data removed]",
      "text/plain": [
       "Plot with title \"BP Levels\""
      ]
     },
     "metadata": {},
     "output_type": "display_data"
    }
   ],
   "source": [
    "fac_BP<-as.factor(drug200$BP)\n",
    "summary(fac_BP)\n",
    "pie(table(drug200$BP), labels =paste0( round((table(drug200$BP)/length(drug200$BP))*100,2) , \"%\") ,main = \"BP Levels\",col = rainbow(length(table(drug200$BP))))\n",
    "legend(\"topright\", names(table(drug200$BP)), cex = 0.8,\n",
    "       fill = rainbow(length(table(drug200$BP))))"
   ]
  },
  {
   "cell_type": "markdown",
   "id": "6edf8802",
   "metadata": {},
   "source": [
    "### __About Cholesterol Levels__"
   ]
  },
  {
   "cell_type": "code",
   "execution_count": 15,
   "id": "cc94b404",
   "metadata": {},
   "outputs": [
    {
     "data": {
      "text/html": [
       "<dl class=dl-horizontal>\n",
       "\t<dt>0</dt>\n",
       "\t\t<dd>97</dd>\n",
       "\t<dt>1</dt>\n",
       "\t\t<dd>103</dd>\n",
       "</dl>\n"
      ],
      "text/latex": [
       "\\begin{description*}\n",
       "\\item[0] 97\n",
       "\\item[1] 103\n",
       "\\end{description*}\n"
      ],
      "text/markdown": [
       "0\n",
       ":   971\n",
       ":   103\n",
       "\n"
      ],
      "text/plain": [
       "  0   1 \n",
       " 97 103 "
      ]
     },
     "metadata": {},
     "output_type": "display_data"
    },
    {
     "data": {
      "image/png": "[encoded data removed]",
      "text/plain": [
       "Plot with title \"Status of Cholesterol\""
      ]
     },
     "metadata": {},
     "output_type": "display_data"
    }
   ],
   "source": [
    "fac_cholesterol<-as.factor(drug200$Cholesterol)\n",
    "summary(fac_cholesterol)\n",
    "pie(table(drug200$Cholesterol), labels =paste0( round((table(drug200$Cholesterol)/length(drug200$Cholesterol))*100,2) , \"%\") ,main = \"Status of Cholesterol\",col = rainbow(length(table(drug200$Cholesterol))))\n",
    "legend(\"topright\", names(table(drug200$Cholesterol)), cex = 0.8,\n",
    "       fill = rainbow(length(table(drug200$Cholesterol))))\n"
   ]
  },
  {
   "cell_type": "markdown",
   "id": "a9f702aa",
   "metadata": {},
   "source": [
    "### __About Sodium to Potassium Ratio__"
   ]
  },
  {
   "cell_type": "code",
   "execution_count": 16,
   "id": "767785b4",
   "metadata": {},
   "outputs": [
    {
     "data": {
      "text/plain": [
       "\n",
       "Call:\n",
       "\tdensity.default(x = drug200$Na_to_K)\n",
       "\n",
       "Data: drug200$Na_to_K (200 obs.);\tBandwidth 'bw' = 2.08\n",
       "\n",
       "       x                  y            \n",
       " Min.   : 0.02988   Min.   :1.305e-05  \n",
       " 1st Qu.:11.14394   1st Qu.:4.158e-03  \n",
       " Median :22.25800   Median :1.576e-02  \n",
       " Mean   :22.25800   Mean   :2.247e-02  \n",
       " 3rd Qu.:33.37206   3rd Qu.:3.718e-02  \n",
       " Max.   :44.48612   Max.   :7.271e-02  "
      ]
     },
     "metadata": {},
     "output_type": "display_data"
    },
    {
     "data": {
      "text/html": [
       "<strong>25%:</strong> 10.4455"
      ],
      "text/latex": [
       "\\textbf{25\\textbackslash{}\\%:} 10.4455"
      ],
      "text/markdown": [
       "**25%:** 10.4455"
      ],
      "text/plain": [
       "    25% \n",
       "10.4455 "
      ]
     },
     "metadata": {},
     "output_type": "display_data"
    },
    {
     "data": {
      "text/html": [
       "<strong>75%:</strong> 19.38"
      ],
      "text/latex": [
       "\\textbf{75\\textbackslash{}\\%:} 19.38"
      ],
      "text/markdown": [
       "**75%:** 19.38"
      ],
      "text/plain": [
       "  75% \n",
       "19.38 "
      ]
     },
     "metadata": {},
     "output_type": "display_data"
    }
   ],
   "source": [
    "density(drug200$Na_to_K)\n",
    "quantile(drug200$Na_to_K, 0.25)\n",
    "quantile(drug200$Na_to_K, 0.75)"
   ]
  },
  {
   "cell_type": "code",
   "execution_count": 17,
   "id": "3a3e4691",
   "metadata": {},
   "outputs": [
    {
     "data": {
      "image/png": "[encoded data removed]",
      "text/plain": [
       "Plot with title \"Na_to_K Distribution\""
      ]
     },
     "metadata": {},
     "output_type": "display_data"
    }
   ],
   "source": [
    "par(mfrow=c(1,2)) \n",
    "hist(drug200$Na_to_K, main=\"Na_to_K Distribution\", ylim=c(0,0.08), col=\"darkmagenta\", freq = FALSE)\n",
    "lines(density(drug200$Na_to_K), col=\"red\")\n",
    "boxplot(drug200$Na_to_K)"
   ]
  },
  {
   "cell_type": "markdown",
   "id": "0031a212",
   "metadata": {},
   "source": [
    "In this case the Na_to_K variable probably follow a lognormal distribution"
   ]
  },
  {
   "cell_type": "markdown",
   "id": "a33ad7f8",
   "metadata": {},
   "source": [
    "# Bivariate Analysis"
   ]
  },
  {
   "cell_type": "code",
   "execution_count": 31,
   "id": "132816c4",
   "metadata": {},
   "outputs": [],
   "source": [
    "library(corrplot)"
   ]
  },
  {
   "cell_type": "code",
   "execution_count": 15,
   "id": "4f494922",
   "metadata": {},
   "outputs": [
    {
     "data": {
      "text/html": [
       "<ol class=list-inline>\n",
       "\t<li>'DrugY'</li>\n",
       "\t<li>'drugC'</li>\n",
       "\t<li>'drugC'</li>\n",
       "\t<li>'drugX'</li>\n",
       "\t<li>'DrugY'</li>\n",
       "\t<li>'drugX'</li>\n",
       "\t<li>'DrugY'</li>\n",
       "\t<li>'drugC'</li>\n",
       "\t<li>'DrugY'</li>\n",
       "\t<li>'DrugY'</li>\n",
       "\t<li>'drugC'</li>\n",
       "\t<li>'DrugY'</li>\n",
       "\t<li>'DrugY'</li>\n",
       "\t<li>'DrugY'</li>\n",
       "\t<li>'drugX'</li>\n",
       "\t<li>'DrugY'</li>\n",
       "\t<li>'drugX'</li>\n",
       "\t<li>'drugA'</li>\n",
       "\t<li>'drugC'</li>\n",
       "\t<li>'DrugY'</li>\n",
       "\t<li>'DrugY'</li>\n",
       "\t<li>'DrugY'</li>\n",
       "\t<li>'DrugY'</li>\n",
       "\t<li>'DrugY'</li>\n",
       "\t<li>'DrugY'</li>\n",
       "\t<li>'DrugY'</li>\n",
       "\t<li>'DrugY'</li>\n",
       "\t<li>'drugX'</li>\n",
       "\t<li>'DrugY'</li>\n",
       "\t<li>'DrugY'</li>\n",
       "\t<li>'drugX'</li>\n",
       "\t<li>'drugB'</li>\n",
       "\t<li>'drugX'</li>\n",
       "\t<li>'DrugY'</li>\n",
       "\t<li>'drugX'</li>\n",
       "\t<li>'drugX'</li>\n",
       "\t<li>'drugA'</li>\n",
       "\t<li>'drugX'</li>\n",
       "\t<li>'drugX'</li>\n",
       "\t<li>'drugX'</li>\n",
       "\t<li>'DrugY'</li>\n",
       "\t<li>'drugB'</li>\n",
       "\t<li>'DrugY'</li>\n",
       "\t<li>'drugX'</li>\n",
       "\t<li>'drugX'</li>\n",
       "\t<li>'drugX'</li>\n",
       "\t<li>'drugA'</li>\n",
       "\t<li>'drugC'</li>\n",
       "\t<li>'DrugY'</li>\n",
       "\t<li>'DrugY'</li>\n",
       "\t<li>'DrugY'</li>\n",
       "\t<li>'drugX'</li>\n",
       "\t<li>'DrugY'</li>\n",
       "\t<li>'DrugY'</li>\n",
       "\t<li>'drugB'</li>\n",
       "\t<li>'drugC'</li>\n",
       "\t<li>'drugB'</li>\n",
       "\t<li>'DrugY'</li>\n",
       "\t<li>'drugX'</li>\n",
       "\t<li>'DrugY'</li>\n",
       "\t<li>'DrugY'</li>\n",
       "\t<li>'drugA'</li>\n",
       "\t<li>'DrugY'</li>\n",
       "\t<li>'drugX'</li>\n",
       "\t<li>'drugB'</li>\n",
       "\t<li>'DrugY'</li>\n",
       "\t<li>'drugA'</li>\n",
       "\t<li>'drugX'</li>\n",
       "\t<li>'DrugY'</li>\n",
       "\t<li>'DrugY'</li>\n",
       "\t<li>'drugB'</li>\n",
       "\t<li>'DrugY'</li>\n",
       "\t<li>'drugX'</li>\n",
       "\t<li>'DrugY'</li>\n",
       "\t<li>'DrugY'</li>\n",
       "\t<li>'DrugY'</li>\n",
       "\t<li>'drugA'</li>\n",
       "\t<li>'DrugY'</li>\n",
       "\t<li>'drugA'</li>\n",
       "\t<li>'drugX'</li>\n",
       "\t<li>'drugB'</li>\n",
       "\t<li>'drugX'</li>\n",
       "\t<li>'drugC'</li>\n",
       "\t<li>'drugA'</li>\n",
       "\t<li>'drugC'</li>\n",
       "\t<li>'drugB'</li>\n",
       "\t<li>'drugX'</li>\n",
       "\t<li>'DrugY'</li>\n",
       "\t<li>'DrugY'</li>\n",
       "\t<li>'DrugY'</li>\n",
       "\t<li>'DrugY'</li>\n",
       "\t<li>'DrugY'</li>\n",
       "\t<li>'DrugY'</li>\n",
       "\t<li>'DrugY'</li>\n",
       "\t<li>'DrugY'</li>\n",
       "\t<li>'drugX'</li>\n",
       "\t<li>'DrugY'</li>\n",
       "\t<li>'DrugY'</li>\n",
       "\t<li>'DrugY'</li>\n",
       "\t<li>'DrugY'</li>\n",
       "\t<li>'drugA'</li>\n",
       "\t<li>'drugA'</li>\n",
       "\t<li>'drugC'</li>\n",
       "\t<li>'drugX'</li>\n",
       "\t<li>'DrugY'</li>\n",
       "\t<li>'drugX'</li>\n",
       "\t<li>'drugX'</li>\n",
       "\t<li>'DrugY'</li>\n",
       "\t<li>'drugB'</li>\n",
       "\t<li>'DrugY'</li>\n",
       "\t<li>'drugA'</li>\n",
       "\t<li>'drugX'</li>\n",
       "\t<li>'drugX'</li>\n",
       "\t<li>'drugX'</li>\n",
       "\t<li>'drugX'</li>\n",
       "\t<li>'DrugY'</li>\n",
       "\t<li>'drugX'</li>\n",
       "\t<li>'drugX'</li>\n",
       "\t<li>'drugA'</li>\n",
       "\t<li>'DrugY'</li>\n",
       "\t<li>'DrugY'</li>\n",
       "\t<li>'DrugY'</li>\n",
       "\t<li>'DrugY'</li>\n",
       "\t<li>'DrugY'</li>\n",
       "\t<li>'drugB'</li>\n",
       "\t<li>'DrugY'</li>\n",
       "\t<li>'DrugY'</li>\n",
       "\t<li>'drugX'</li>\n",
       "\t<li>'DrugY'</li>\n",
       "\t<li>'drugX'</li>\n",
       "\t<li>'DrugY'</li>\n",
       "\t<li>'DrugY'</li>\n",
       "\t<li>'drugX'</li>\n",
       "\t<li>'DrugY'</li>\n",
       "\t<li>'DrugY'</li>\n",
       "\t<li>'drugX'</li>\n",
       "\t<li>'drugB'</li>\n",
       "\t<li>'drugA'</li>\n",
       "\t<li>'drugB'</li>\n",
       "\t<li>'drugX'</li>\n",
       "\t<li>'drugA'</li>\n",
       "\t<li>'DrugY'</li>\n",
       "\t<li>'drugB'</li>\n",
       "\t<li>'DrugY'</li>\n",
       "\t<li>'drugA'</li>\n",
       "\t<li>'drugX'</li>\n",
       "\t<li>'drugX'</li>\n",
       "\t<li>'drugA'</li>\n",
       "\t<li>'drugX'</li>\n",
       "\t<li>'drugC'</li>\n",
       "\t<li>'drugA'</li>\n",
       "\t<li>'drugB'</li>\n",
       "\t<li>'drugX'</li>\n",
       "\t<li>'drugX'</li>\n",
       "\t<li>'DrugY'</li>\n",
       "\t<li>'drugC'</li>\n",
       "\t<li>'drugA'</li>\n",
       "\t<li>'DrugY'</li>\n",
       "\t<li>'drugC'</li>\n",
       "\t<li>'drugX'</li>\n",
       "\t<li>'drugX'</li>\n",
       "\t<li>'drugB'</li>\n",
       "\t<li>'drugX'</li>\n",
       "\t<li>'DrugY'</li>\n",
       "\t<li>'DrugY'</li>\n",
       "\t<li>'DrugY'</li>\n",
       "\t<li>'DrugY'</li>\n",
       "\t<li>'drugX'</li>\n",
       "\t<li>'DrugY'</li>\n",
       "\t<li>'drugA'</li>\n",
       "\t<li>'drugX'</li>\n",
       "\t<li>'drugX'</li>\n",
       "\t<li>'DrugY'</li>\n",
       "\t<li>'DrugY'</li>\n",
       "\t<li>'drugA'</li>\n",
       "\t<li>'DrugY'</li>\n",
       "\t<li>'drugA'</li>\n",
       "\t<li>'DrugY'</li>\n",
       "\t<li>'DrugY'</li>\n",
       "\t<li>'DrugY'</li>\n",
       "\t<li>'DrugY'</li>\n",
       "\t<li>'drugX'</li>\n",
       "\t<li>'drugX'</li>\n",
       "\t<li>'DrugY'</li>\n",
       "\t<li>'DrugY'</li>\n",
       "\t<li>'DrugY'</li>\n",
       "\t<li>'drugB'</li>\n",
       "\t<li>'drugA'</li>\n",
       "\t<li>'DrugY'</li>\n",
       "\t<li>'DrugY'</li>\n",
       "\t<li>'DrugY'</li>\n",
       "\t<li>'drugA'</li>\n",
       "\t<li>'DrugY'</li>\n",
       "\t<li>'drugC'</li>\n",
       "\t<li>'DrugY'</li>\n",
       "\t<li>'drugC'</li>\n",
       "\t<li>'drugC'</li>\n",
       "\t<li>'drugX'</li>\n",
       "\t<li>'drugX'</li>\n",
       "\t<li>'drugX'</li>\n",
       "</ol>\n"
      ],
      "text/latex": [
       "\\begin{enumerate*}\n",
       "\\item 'DrugY'\n",
       "\\item 'drugC'\n",
       "\\item 'drugC'\n",
       "\\item 'drugX'\n",
       "\\item 'DrugY'\n",
       "\\item 'drugX'\n",
       "\\item 'DrugY'\n",
       "\\item 'drugC'\n",
       "\\item 'DrugY'\n",
       "\\item 'DrugY'\n",
       "\\item 'drugC'\n",
       "\\item 'DrugY'\n",
       "\\item 'DrugY'\n",
       "\\item 'DrugY'\n",
       "\\item 'drugX'\n",
       "\\item 'DrugY'\n",
       "\\item 'drugX'\n",
       "\\item 'drugA'\n",
       "\\item 'drugC'\n",
       "\\item 'DrugY'\n",
       "\\item 'DrugY'\n",
       "\\item 'DrugY'\n",
       "\\item 'DrugY'\n",
       "\\item 'DrugY'\n",
       "\\item 'DrugY'\n",
       "\\item 'DrugY'\n",
       "\\item 'DrugY'\n",
       "\\item 'drugX'\n",
       "\\item 'DrugY'\n",
       "\\item 'DrugY'\n",
       "\\item 'drugX'\n",
       "\\item 'drugB'\n",
       "\\item 'drugX'\n",
       "\\item 'DrugY'\n",
       "\\item 'drugX'\n",
       "\\item 'drugX'\n",
       "\\item 'drugA'\n",
       "\\item 'drugX'\n",
       "\\item 'drugX'\n",
       "\\item 'drugX'\n",
       "\\item 'DrugY'\n",
       "\\item 'drugB'\n",
       "\\item 'DrugY'\n",
       "\\item 'drugX'\n",
       "\\item 'drugX'\n",
       "\\item 'drugX'\n",
       "\\item 'drugA'\n",
       "\\item 'drugC'\n",
       "\\item 'DrugY'\n",
       "\\item 'DrugY'\n",
       "\\item 'DrugY'\n",
       "\\item 'drugX'\n",
       "\\item 'DrugY'\n",
       "\\item 'DrugY'\n",
       "\\item 'drugB'\n",
       "\\item 'drugC'\n",
       "\\item 'drugB'\n",
       "\\item 'DrugY'\n",
       "\\item 'drugX'\n",
       "\\item 'DrugY'\n",
       "\\item 'DrugY'\n",
       "\\item 'drugA'\n",
       "\\item 'DrugY'\n",
       "\\item 'drugX'\n",
       "\\item 'drugB'\n",
       "\\item 'DrugY'\n",
       "\\item 'drugA'\n",
       "\\item 'drugX'\n",
       "\\item 'DrugY'\n",
       "\\item 'DrugY'\n",
       "\\item 'drugB'\n",
       "\\item 'DrugY'\n",
       "\\item 'drugX'\n",
       "\\item 'DrugY'\n",
       "\\item 'DrugY'\n",
       "\\item 'DrugY'\n",
       "\\item 'drugA'\n",
       "\\item 'DrugY'\n",
       "\\item 'drugA'\n",
       "\\item 'drugX'\n",
       "\\item 'drugB'\n",
       "\\item 'drugX'\n",
       "\\item 'drugC'\n",
       "\\item 'drugA'\n",
       "\\item 'drugC'\n",
       "\\item 'drugB'\n",
       "\\item 'drugX'\n",
       "\\item 'DrugY'\n",
       "\\item 'DrugY'\n",
       "\\item 'DrugY'\n",
       "\\item 'DrugY'\n",
       "\\item 'DrugY'\n",
       "\\item 'DrugY'\n",
       "\\item 'DrugY'\n",
       "\\item 'DrugY'\n",
       "\\item 'drugX'\n",
       "\\item 'DrugY'\n",
       "\\item 'DrugY'\n",
       "\\item 'DrugY'\n",
       "\\item 'DrugY'\n",
       "\\item 'drugA'\n",
       "\\item 'drugA'\n",
       "\\item 'drugC'\n",
       "\\item 'drugX'\n",
       "\\item 'DrugY'\n",
       "\\item 'drugX'\n",
       "\\item 'drugX'\n",
       "\\item 'DrugY'\n",
       "\\item 'drugB'\n",
       "\\item 'DrugY'\n",
       "\\item 'drugA'\n",
       "\\item 'drugX'\n",
       "\\item 'drugX'\n",
       "\\item 'drugX'\n",
       "\\item 'drugX'\n",
       "\\item 'DrugY'\n",
       "\\item 'drugX'\n",
       "\\item 'drugX'\n",
       "\\item 'drugA'\n",
       "\\item 'DrugY'\n",
       "\\item 'DrugY'\n",
       "\\item 'DrugY'\n",
       "\\item 'DrugY'\n",
       "\\item 'DrugY'\n",
       "\\item 'drugB'\n",
       "\\item 'DrugY'\n",
       "\\item 'DrugY'\n",
       "\\item 'drugX'\n",
       "\\item 'DrugY'\n",
       "\\item 'drugX'\n",
       "\\item 'DrugY'\n",
       "\\item 'DrugY'\n",
       "\\item 'drugX'\n",
       "\\item 'DrugY'\n",
       "\\item 'DrugY'\n",
       "\\item 'drugX'\n",
       "\\item 'drugB'\n",
       "\\item 'drugA'\n",
       "\\item 'drugB'\n",
       "\\item 'drugX'\n",
       "\\item 'drugA'\n",
       "\\item 'DrugY'\n",
       "\\item 'drugB'\n",
       "\\item 'DrugY'\n",
       "\\item 'drugA'\n",
       "\\item 'drugX'\n",
       "\\item 'drugX'\n",
       "\\item 'drugA'\n",
       "\\item 'drugX'\n",
       "\\item 'drugC'\n",
       "\\item 'drugA'\n",
       "\\item 'drugB'\n",
       "\\item 'drugX'\n",
       "\\item 'drugX'\n",
       "\\item 'DrugY'\n",
       "\\item 'drugC'\n",
       "\\item 'drugA'\n",
       "\\item 'DrugY'\n",
       "\\item 'drugC'\n",
       "\\item 'drugX'\n",
       "\\item 'drugX'\n",
       "\\item 'drugB'\n",
       "\\item 'drugX'\n",
       "\\item 'DrugY'\n",
       "\\item 'DrugY'\n",
       "\\item 'DrugY'\n",
       "\\item 'DrugY'\n",
       "\\item 'drugX'\n",
       "\\item 'DrugY'\n",
       "\\item 'drugA'\n",
       "\\item 'drugX'\n",
       "\\item 'drugX'\n",
       "\\item 'DrugY'\n",
       "\\item 'DrugY'\n",
       "\\item 'drugA'\n",
       "\\item 'DrugY'\n",
       "\\item 'drugA'\n",
       "\\item 'DrugY'\n",
       "\\item 'DrugY'\n",
       "\\item 'DrugY'\n",
       "\\item 'DrugY'\n",
       "\\item 'drugX'\n",
       "\\item 'drugX'\n",
       "\\item 'DrugY'\n",
       "\\item 'DrugY'\n",
       "\\item 'DrugY'\n",
       "\\item 'drugB'\n",
       "\\item 'drugA'\n",
       "\\item 'DrugY'\n",
       "\\item 'DrugY'\n",
       "\\item 'DrugY'\n",
       "\\item 'drugA'\n",
       "\\item 'DrugY'\n",
       "\\item 'drugC'\n",
       "\\item 'DrugY'\n",
       "\\item 'drugC'\n",
       "\\item 'drugC'\n",
       "\\item 'drugX'\n",
       "\\item 'drugX'\n",
       "\\item 'drugX'\n",
       "\\end{enumerate*}\n"
      ],
      "text/markdown": [
       "1. 'DrugY'\n",
       "2. 'drugC'\n",
       "3. 'drugC'\n",
       "4. 'drugX'\n",
       "5. 'DrugY'\n",
       "6. 'drugX'\n",
       "7. 'DrugY'\n",
       "8. 'drugC'\n",
       "9. 'DrugY'\n",
       "10. 'DrugY'\n",
       "11. 'drugC'\n",
       "12. 'DrugY'\n",
       "13. 'DrugY'\n",
       "14. 'DrugY'\n",
       "15. 'drugX'\n",
       "16. 'DrugY'\n",
       "17. 'drugX'\n",
       "18. 'drugA'\n",
       "19. 'drugC'\n",
       "20. 'DrugY'\n",
       "21. 'DrugY'\n",
       "22. 'DrugY'\n",
       "23. 'DrugY'\n",
       "24. 'DrugY'\n",
       "25. 'DrugY'\n",
       "26. 'DrugY'\n",
       "27. 'DrugY'\n",
       "28. 'drugX'\n",
       "29. 'DrugY'\n",
       "30. 'DrugY'\n",
       "31. 'drugX'\n",
       "32. 'drugB'\n",
       "33. 'drugX'\n",
       "34. 'DrugY'\n",
       "35. 'drugX'\n",
       "36. 'drugX'\n",
       "37. 'drugA'\n",
       "38. 'drugX'\n",
       "39. 'drugX'\n",
       "40. 'drugX'\n",
       "41. 'DrugY'\n",
       "42. 'drugB'\n",
       "43. 'DrugY'\n",
       "44. 'drugX'\n",
       "45. 'drugX'\n",
       "46. 'drugX'\n",
       "47. 'drugA'\n",
       "48. 'drugC'\n",
       "49. 'DrugY'\n",
       "50. 'DrugY'\n",
       "51. 'DrugY'\n",
       "52. 'drugX'\n",
       "53. 'DrugY'\n",
       "54. 'DrugY'\n",
       "55. 'drugB'\n",
       "56. 'drugC'\n",
       "57. 'drugB'\n",
       "58. 'DrugY'\n",
       "59. 'drugX'\n",
       "60. 'DrugY'\n",
       "61. 'DrugY'\n",
       "62. 'drugA'\n",
       "63. 'DrugY'\n",
       "64. 'drugX'\n",
       "65. 'drugB'\n",
       "66. 'DrugY'\n",
       "67. 'drugA'\n",
       "68. 'drugX'\n",
       "69. 'DrugY'\n",
       "70. 'DrugY'\n",
       "71. 'drugB'\n",
       "72. 'DrugY'\n",
       "73. 'drugX'\n",
       "74. 'DrugY'\n",
       "75. 'DrugY'\n",
       "76. 'DrugY'\n",
       "77. 'drugA'\n",
       "78. 'DrugY'\n",
       "79. 'drugA'\n",
       "80. 'drugX'\n",
       "81. 'drugB'\n",
       "82. 'drugX'\n",
       "83. 'drugC'\n",
       "84. 'drugA'\n",
       "85. 'drugC'\n",
       "86. 'drugB'\n",
       "87. 'drugX'\n",
       "88. 'DrugY'\n",
       "89. 'DrugY'\n",
       "90. 'DrugY'\n",
       "91. 'DrugY'\n",
       "92. 'DrugY'\n",
       "93. 'DrugY'\n",
       "94. 'DrugY'\n",
       "95. 'DrugY'\n",
       "96. 'drugX'\n",
       "97. 'DrugY'\n",
       "98. 'DrugY'\n",
       "99. 'DrugY'\n",
       "100. 'DrugY'\n",
       "101. 'drugA'\n",
       "102. 'drugA'\n",
       "103. 'drugC'\n",
       "104. 'drugX'\n",
       "105. 'DrugY'\n",
       "106. 'drugX'\n",
       "107. 'drugX'\n",
       "108. 'DrugY'\n",
       "109. 'drugB'\n",
       "110. 'DrugY'\n",
       "111. 'drugA'\n",
       "112. 'drugX'\n",
       "113. 'drugX'\n",
       "114. 'drugX'\n",
       "115. 'drugX'\n",
       "116. 'DrugY'\n",
       "117. 'drugX'\n",
       "118. 'drugX'\n",
       "119. 'drugA'\n",
       "120. 'DrugY'\n",
       "121. 'DrugY'\n",
       "122. 'DrugY'\n",
       "123. 'DrugY'\n",
       "124. 'DrugY'\n",
       "125. 'drugB'\n",
       "126. 'DrugY'\n",
       "127. 'DrugY'\n",
       "128. 'drugX'\n",
       "129. 'DrugY'\n",
       "130. 'drugX'\n",
       "131. 'DrugY'\n",
       "132. 'DrugY'\n",
       "133. 'drugX'\n",
       "134. 'DrugY'\n",
       "135. 'DrugY'\n",
       "136. 'drugX'\n",
       "137. 'drugB'\n",
       "138. 'drugA'\n",
       "139. 'drugB'\n",
       "140. 'drugX'\n",
       "141. 'drugA'\n",
       "142. 'DrugY'\n",
       "143. 'drugB'\n",
       "144. 'DrugY'\n",
       "145. 'drugA'\n",
       "146. 'drugX'\n",
       "147. 'drugX'\n",
       "148. 'drugA'\n",
       "149. 'drugX'\n",
       "150. 'drugC'\n",
       "151. 'drugA'\n",
       "152. 'drugB'\n",
       "153. 'drugX'\n",
       "154. 'drugX'\n",
       "155. 'DrugY'\n",
       "156. 'drugC'\n",
       "157. 'drugA'\n",
       "158. 'DrugY'\n",
       "159. 'drugC'\n",
       "160. 'drugX'\n",
       "161. 'drugX'\n",
       "162. 'drugB'\n",
       "163. 'drugX'\n",
       "164. 'DrugY'\n",
       "165. 'DrugY'\n",
       "166. 'DrugY'\n",
       "167. 'DrugY'\n",
       "168. 'drugX'\n",
       "169. 'DrugY'\n",
       "170. 'drugA'\n",
       "171. 'drugX'\n",
       "172. 'drugX'\n",
       "173. 'DrugY'\n",
       "174. 'DrugY'\n",
       "175. 'drugA'\n",
       "176. 'DrugY'\n",
       "177. 'drugA'\n",
       "178. 'DrugY'\n",
       "179. 'DrugY'\n",
       "180. 'DrugY'\n",
       "181. 'DrugY'\n",
       "182. 'drugX'\n",
       "183. 'drugX'\n",
       "184. 'DrugY'\n",
       "185. 'DrugY'\n",
       "186. 'DrugY'\n",
       "187. 'drugB'\n",
       "188. 'drugA'\n",
       "189. 'DrugY'\n",
       "190. 'DrugY'\n",
       "191. 'DrugY'\n",
       "192. 'drugA'\n",
       "193. 'DrugY'\n",
       "194. 'drugC'\n",
       "195. 'DrugY'\n",
       "196. 'drugC'\n",
       "197. 'drugC'\n",
       "198. 'drugX'\n",
       "199. 'drugX'\n",
       "200. 'drugX'\n",
       "\n",
       "\n"
      ],
      "text/plain": [
       "  [1] \"DrugY\" \"drugC\" \"drugC\" \"drugX\" \"DrugY\" \"drugX\" \"DrugY\" \"drugC\" \"DrugY\"\n",
       " [10] \"DrugY\" \"drugC\" \"DrugY\" \"DrugY\" \"DrugY\" \"drugX\" \"DrugY\" \"drugX\" \"drugA\"\n",
       " [19] \"drugC\" \"DrugY\" \"DrugY\" \"DrugY\" \"DrugY\" \"DrugY\" \"DrugY\" \"DrugY\" \"DrugY\"\n",
       " [28] \"drugX\" \"DrugY\" \"DrugY\" \"drugX\" \"drugB\" \"drugX\" \"DrugY\" \"drugX\" \"drugX\"\n",
       " [37] \"drugA\" \"drugX\" \"drugX\" \"drugX\" \"DrugY\" \"drugB\" \"DrugY\" \"drugX\" \"drugX\"\n",
       " [46] \"drugX\" \"drugA\" \"drugC\" \"DrugY\" \"DrugY\" \"DrugY\" \"drugX\" \"DrugY\" \"DrugY\"\n",
       " [55] \"drugB\" \"drugC\" \"drugB\" \"DrugY\" \"drugX\" \"DrugY\" \"DrugY\" \"drugA\" \"DrugY\"\n",
       " [64] \"drugX\" \"drugB\" \"DrugY\" \"drugA\" \"drugX\" \"DrugY\" \"DrugY\" \"drugB\" \"DrugY\"\n",
       " [73] \"drugX\" \"DrugY\" \"DrugY\" \"DrugY\" \"drugA\" \"DrugY\" \"drugA\" \"drugX\" \"drugB\"\n",
       " [82] \"drugX\" \"drugC\" \"drugA\" \"drugC\" \"drugB\" \"drugX\" \"DrugY\" \"DrugY\" \"DrugY\"\n",
       " [91] \"DrugY\" \"DrugY\" \"DrugY\" \"DrugY\" \"DrugY\" \"drugX\" \"DrugY\" \"DrugY\" \"DrugY\"\n",
       "[100] \"DrugY\" \"drugA\" \"drugA\" \"drugC\" \"drugX\" \"DrugY\" \"drugX\" \"drugX\" \"DrugY\"\n",
       "[109] \"drugB\" \"DrugY\" \"drugA\" \"drugX\" \"drugX\" \"drugX\" \"drugX\" \"DrugY\" \"drugX\"\n",
       "[118] \"drugX\" \"drugA\" \"DrugY\" \"DrugY\" \"DrugY\" \"DrugY\" \"DrugY\" \"drugB\" \"DrugY\"\n",
       "[127] \"DrugY\" \"drugX\" \"DrugY\" \"drugX\" \"DrugY\" \"DrugY\" \"drugX\" \"DrugY\" \"DrugY\"\n",
       "[136] \"drugX\" \"drugB\" \"drugA\" \"drugB\" \"drugX\" \"drugA\" \"DrugY\" \"drugB\" \"DrugY\"\n",
       "[145] \"drugA\" \"drugX\" \"drugX\" \"drugA\" \"drugX\" \"drugC\" \"drugA\" \"drugB\" \"drugX\"\n",
       "[154] \"drugX\" \"DrugY\" \"drugC\" \"drugA\" \"DrugY\" \"drugC\" \"drugX\" \"drugX\" \"drugB\"\n",
       "[163] \"drugX\" \"DrugY\" \"DrugY\" \"DrugY\" \"DrugY\" \"drugX\" \"DrugY\" \"drugA\" \"drugX\"\n",
       "[172] \"drugX\" \"DrugY\" \"DrugY\" \"drugA\" \"DrugY\" \"drugA\" \"DrugY\" \"DrugY\" \"DrugY\"\n",
       "[181] \"DrugY\" \"drugX\" \"drugX\" \"DrugY\" \"DrugY\" \"DrugY\" \"drugB\" \"drugA\" \"DrugY\"\n",
       "[190] \"DrugY\" \"DrugY\" \"drugA\" \"DrugY\" \"drugC\" \"DrugY\" \"drugC\" \"drugC\" \"drugX\"\n",
       "[199] \"drugX\" \"drugX\""
      ]
     },
     "metadata": {},
     "output_type": "display_data"
    }
   ],
   "source": [
    "unclass(drug200$Drug)"
   ]
  },
  {
   "cell_type": "code",
   "execution_count": 18,
   "id": "d1563f3d",
   "metadata": {},
   "outputs": [
    {
     "data": {
      "image/png": "[encoded data removed]",
      "text/plain": [
       "plot without title"
      ]
     },
     "metadata": {},
     "output_type": "display_data"
    }
   ],
   "source": [
    "pairs(drug200, main=\"Drug Classification\", pch = 21, bg = c(\"red\", \"green\", \"blue\",\"yellow\",\"orange\")[unclass(drug200$Drug)])"
   ]
  },
  {
   "cell_type": "code",
   "execution_count": 19,
   "id": "f22ae01f",
   "metadata": {},
   "outputs": [
    {
     "data": {
      "text/html": [
       "<table>\n",
       "<thead><tr><th></th><th scope=col>Age</th><th scope=col>Sex</th><th scope=col>BP</th><th scope=col>Cholesterol</th><th scope=col>Na_to_K</th><th scope=col>Drug</th></tr></thead>\n",
       "<tbody>\n",
       "\t<tr><th scope=row>Age</th><td>273.7143467 </td><td> 0.845427136</td><td>-1.67886935 </td><td> 0.565603015</td><td>-7.54375153 </td><td> 2.61329146 </td></tr>\n",
       "\t<tr><th scope=row>Sex</th><td>  0.8454271 </td><td> 0.250854271</td><td>-0.01889447 </td><td> 0.002211055</td><td>-0.45229869 </td><td> 0.05708543 </td></tr>\n",
       "\t<tr><th scope=row>BP</th><td> -1.6788693 </td><td>-0.018894472</td><td> 0.70429648 </td><td>-0.013542714</td><td> 0.22353113 </td><td> 0.32309045 </td></tr>\n",
       "\t<tr><th scope=row>Cholesterol</th><td>  0.5656030 </td><td> 0.002211055</td><td>-0.01354271 </td><td> 0.251030151</td><td>-0.03619575 </td><td>-0.04198492 </td></tr>\n",
       "\t<tr><th scope=row>Na_to_K</th><td> -7.5437515 </td><td>-0.452298693</td><td> 0.22353113 </td><td>-0.036195754</td><td>52.18553348 </td><td>-6.64500827 </td></tr>\n",
       "\t<tr><th scope=row>Drug</th><td>  2.6132915 </td><td> 0.057085427</td><td> 0.32309045 </td><td>-0.041984925</td><td>-6.64500827 </td><td> 1.83293970 </td></tr>\n",
       "</tbody>\n",
       "</table>\n"
      ],
      "text/latex": [
       "\\begin{tabular}{r|llllll}\n",
       "  & Age & Sex & BP & Cholesterol & Na\\_to\\_K & Drug\\\\\n",
       "\\hline\n",
       "\tAge & 273.7143467  &  0.845427136 & -1.67886935  &  0.565603015 & -7.54375153  &  2.61329146 \\\\\n",
       "\tSex &   0.8454271  &  0.250854271 & -0.01889447  &  0.002211055 & -0.45229869  &  0.05708543 \\\\\n",
       "\tBP &  -1.6788693  & -0.018894472 &  0.70429648  & -0.013542714 &  0.22353113  &  0.32309045 \\\\\n",
       "\tCholesterol &   0.5656030  &  0.002211055 & -0.01354271  &  0.251030151 & -0.03619575  & -0.04198492 \\\\\n",
       "\tNa\\_to\\_K &  -7.5437515  & -0.452298693 &  0.22353113  & -0.036195754 & 52.18553348  & -6.64500827 \\\\\n",
       "\tDrug &   2.6132915  &  0.057085427 &  0.32309045  & -0.041984925 & -6.64500827  &  1.83293970 \\\\\n",
       "\\end{tabular}\n"
      ],
      "text/markdown": [
       "\n",
       "| <!--/--> | Age | Sex | BP | Cholesterol | Na_to_K | Drug |\n",
       "|---|---|---|---|---|---|---|\n",
       "| Age | 273.7143467  |  0.845427136 | -1.67886935  |  0.565603015 | -7.54375153  |  2.61329146  |\n",
       "| Sex |   0.8454271  |  0.250854271 | -0.01889447  |  0.002211055 | -0.45229869  |  0.05708543  |\n",
       "| BP |  -1.6788693  | -0.018894472 |  0.70429648  | -0.013542714 |  0.22353113  |  0.32309045  |\n",
       "| Cholesterol |   0.5656030  |  0.002211055 | -0.01354271  |  0.251030151 | -0.03619575  | -0.04198492  |\n",
       "| Na_to_K |  -7.5437515  | -0.452298693 |  0.22353113  | -0.036195754 | 52.18553348  | -6.64500827  |\n",
       "| Drug |   2.6132915  |  0.057085427 |  0.32309045  | -0.041984925 | -6.64500827  |  1.83293970  |\n",
       "\n"
      ],
      "text/plain": [
       "            Age         Sex          BP          Cholesterol  Na_to_K    \n",
       "Age         273.7143467  0.845427136 -1.67886935  0.565603015 -7.54375153\n",
       "Sex           0.8454271  0.250854271 -0.01889447  0.002211055 -0.45229869\n",
       "BP           -1.6788693 -0.018894472  0.70429648 -0.013542714  0.22353113\n",
       "Cholesterol   0.5656030  0.002211055 -0.01354271  0.251030151 -0.03619575\n",
       "Na_to_K      -7.5437515 -0.452298693  0.22353113 -0.036195754 52.18553348\n",
       "Drug          2.6132915  0.057085427  0.32309045 -0.041984925 -6.64500827\n",
       "            Drug       \n",
       "Age          2.61329146\n",
       "Sex          0.05708543\n",
       "BP           0.32309045\n",
       "Cholesterol -0.04198492\n",
       "Na_to_K     -6.64500827\n",
       "Drug         1.83293970"
      ]
     },
     "metadata": {},
     "output_type": "display_data"
    }
   ],
   "source": [
    "cov(drug200)"
   ]
  },
  {
   "cell_type": "code",
   "execution_count": 20,
   "id": "a38b34c4",
   "metadata": {},
   "outputs": [
    {
     "data": {
      "text/html": [
       "<table>\n",
       "<thead><tr><th></th><th scope=col>Age</th><th scope=col>Sex</th><th scope=col>BP</th><th scope=col>Cholesterol</th><th scope=col>Na_to_K</th><th scope=col>Drug</th></tr></thead>\n",
       "<tbody>\n",
       "\t<tr><th scope=row>Age</th><td> 1.00000000 </td><td> 0.102027361</td><td>-0.12091783 </td><td> 0.068233868</td><td>-0.06311950 </td><td> 0.11667155 </td></tr>\n",
       "\t<tr><th scope=row>Sex</th><td> 0.10202736 </td><td> 1.000000000</td><td>-0.04495171 </td><td> 0.008811014</td><td>-0.12500849 </td><td> 0.08418610 </td></tr>\n",
       "\t<tr><th scope=row>BP</th><td>-0.12091783 </td><td>-0.044951714</td><td> 1.00000000 </td><td>-0.032208091</td><td> 0.03687102 </td><td> 0.28436247 </td></tr>\n",
       "\t<tr><th scope=row>Cholesterol</th><td> 0.06823387 </td><td> 0.008811014</td><td>-0.03220809 </td><td> 1.000000000</td><td>-0.01000045 </td><td>-0.06189511 </td></tr>\n",
       "\t<tr><th scope=row>Na_to_K</th><td>-0.06311950 </td><td>-0.125008493</td><td> 0.03687102 </td><td>-0.010000452</td><td> 1.00000000 </td><td>-0.67943259 </td></tr>\n",
       "\t<tr><th scope=row>Drug</th><td> 0.11667155 </td><td> 0.084186105</td><td> 0.28436247 </td><td>-0.061895111</td><td>-0.67943259 </td><td> 1.00000000 </td></tr>\n",
       "</tbody>\n",
       "</table>\n"
      ],
      "text/latex": [
       "\\begin{tabular}{r|llllll}\n",
       "  & Age & Sex & BP & Cholesterol & Na\\_to\\_K & Drug\\\\\n",
       "\\hline\n",
       "\tAge &  1.00000000  &  0.102027361 & -0.12091783  &  0.068233868 & -0.06311950  &  0.11667155 \\\\\n",
       "\tSex &  0.10202736  &  1.000000000 & -0.04495171  &  0.008811014 & -0.12500849  &  0.08418610 \\\\\n",
       "\tBP & -0.12091783  & -0.044951714 &  1.00000000  & -0.032208091 &  0.03687102  &  0.28436247 \\\\\n",
       "\tCholesterol &  0.06823387  &  0.008811014 & -0.03220809  &  1.000000000 & -0.01000045  & -0.06189511 \\\\\n",
       "\tNa\\_to\\_K & -0.06311950  & -0.125008493 &  0.03687102  & -0.010000452 &  1.00000000  & -0.67943259 \\\\\n",
       "\tDrug &  0.11667155  &  0.084186105 &  0.28436247  & -0.061895111 & -0.67943259  &  1.00000000 \\\\\n",
       "\\end{tabular}\n"
      ],
      "text/markdown": [
       "\n",
       "| <!--/--> | Age | Sex | BP | Cholesterol | Na_to_K | Drug |\n",
       "|---|---|---|---|---|---|---|\n",
       "| Age |  1.00000000  |  0.102027361 | -0.12091783  |  0.068233868 | -0.06311950  |  0.11667155  |\n",
       "| Sex |  0.10202736  |  1.000000000 | -0.04495171  |  0.008811014 | -0.12500849  |  0.08418610  |\n",
       "| BP | -0.12091783  | -0.044951714 |  1.00000000  | -0.032208091 |  0.03687102  |  0.28436247  |\n",
       "| Cholesterol |  0.06823387  |  0.008811014 | -0.03220809  |  1.000000000 | -0.01000045  | -0.06189511  |\n",
       "| Na_to_K | -0.06311950  | -0.125008493 |  0.03687102  | -0.010000452 |  1.00000000  | -0.67943259  |\n",
       "| Drug |  0.11667155  |  0.084186105 |  0.28436247  | -0.061895111 | -0.67943259  |  1.00000000  |\n",
       "\n"
      ],
      "text/plain": [
       "            Age         Sex          BP          Cholesterol  Na_to_K    \n",
       "Age          1.00000000  0.102027361 -0.12091783  0.068233868 -0.06311950\n",
       "Sex          0.10202736  1.000000000 -0.04495171  0.008811014 -0.12500849\n",
       "BP          -0.12091783 -0.044951714  1.00000000 -0.032208091  0.03687102\n",
       "Cholesterol  0.06823387  0.008811014 -0.03220809  1.000000000 -0.01000045\n",
       "Na_to_K     -0.06311950 -0.125008493  0.03687102 -0.010000452  1.00000000\n",
       "Drug         0.11667155  0.084186105  0.28436247 -0.061895111 -0.67943259\n",
       "            Drug       \n",
       "Age          0.11667155\n",
       "Sex          0.08418610\n",
       "BP           0.28436247\n",
       "Cholesterol -0.06189511\n",
       "Na_to_K     -0.67943259\n",
       "Drug         1.00000000"
      ]
     },
     "metadata": {},
     "output_type": "display_data"
    }
   ],
   "source": [
    "cor(drug200)"
   ]
  },
  {
   "cell_type": "code",
   "execution_count": 21,
   "id": "60017460",
   "metadata": {},
   "outputs": [
    {
     "data": {
      "image/png": "[encoded data removed]",
      "text/plain": [
       "Plot with title \"\""
      ]
     },
     "metadata": {},
     "output_type": "display_data"
    }
   ],
   "source": [
    "corrplot(cor(drug200), type = \"upper\", order = \"hclust\", tl.col = \"black\", tl.srt = 45)"
   ]
  },
  {
   "cell_type": "markdown",
   "id": "18fb9898",
   "metadata": {},
   "source": [
    "The corrplot above show us:\n",
    "\n",
    "•a negative linear correlation between __Drug and Sodium to Potassium Ratio__ around __-0.68__\n",
    "\n",
    "•a lower negative linear correlation between __Sex and Sodium to Potassium Ratio__ around __-0.125__\n",
    "\n",
    "•a lower negative linear correlation between __Age and Blood Pressure Levels__ around __-0.121__\n",
    "\n",
    "•a lower positive linear correlation between __Blood Pressure Levels and Drug__ around __0.28__\n",
    "\n",
    "•a lower positive linear correlation between __Age and Drug__ around __0.117__\n",
    "\n",
    "•a lower positive linear correlation between __Age and Sex__ around __0.102__"
   ]
  },
  {
   "cell_type": "markdown",
   "id": "a4b36b8f",
   "metadata": {},
   "source": [
    "## Error-bars"
   ]
  },
  {
   "cell_type": "markdown",
   "id": "7517cf4d",
   "metadata": {},
   "source": [
    "The error-bars can display information about the the variability of the data such as the minimum and maximum values, the variance, the standard error or the standard deviation."
   ]
  },
  {
   "cell_type": "markdown",
   "id": "a4af4698",
   "metadata": {},
   "source": [
    "I want to plot the average values of Na_to_K, after grouping the data by Drugs type. "
   ]
  },
  {
   "cell_type": "code",
   "execution_count": 22,
   "id": "2f4a75c1",
   "metadata": {},
   "outputs": [
    {
     "name": "stderr",
     "output_type": "stream",
     "text": [
      "Parsed with column specification:\n",
      "cols(\n",
      "  Age = col_double(),\n",
      "  Sex = col_character(),\n",
      "  BP = col_character(),\n",
      "  Cholesterol = col_character(),\n",
      "  Na_to_K = col_double(),\n",
      "  Drug = col_character()\n",
      ")\n"
     ]
    },
    {
     "data": {
      "text/html": [
       "<table>\n",
       "<thead><tr><th scope=col>Age</th><th scope=col>Sex</th><th scope=col>BP</th><th scope=col>Cholesterol</th><th scope=col>Na_to_K</th><th scope=col>Drug</th></tr></thead>\n",
       "<tbody>\n",
       "\t<tr><td>23    </td><td>F     </td><td>HIGH  </td><td>HIGH  </td><td>25.355</td><td>DrugY </td></tr>\n",
       "\t<tr><td>47    </td><td>M     </td><td>LOW   </td><td>HIGH  </td><td>13.093</td><td>drugC </td></tr>\n",
       "\t<tr><td>47    </td><td>M     </td><td>LOW   </td><td>HIGH  </td><td>10.114</td><td>drugC </td></tr>\n",
       "\t<tr><td>28    </td><td>F     </td><td>NORMAL</td><td>HIGH  </td><td> 7.798</td><td>drugX </td></tr>\n",
       "\t<tr><td>61    </td><td>F     </td><td>LOW   </td><td>HIGH  </td><td>18.043</td><td>DrugY </td></tr>\n",
       "\t<tr><td>22    </td><td>F     </td><td>NORMAL</td><td>HIGH  </td><td> 8.607</td><td>drugX </td></tr>\n",
       "</tbody>\n",
       "</table>\n"
      ],
      "text/latex": [
       "\\begin{tabular}{r|llllll}\n",
       " Age & Sex & BP & Cholesterol & Na\\_to\\_K & Drug\\\\\n",
       "\\hline\n",
       "\t 23     & F      & HIGH   & HIGH   & 25.355 & DrugY \\\\\n",
       "\t 47     & M      & LOW    & HIGH   & 13.093 & drugC \\\\\n",
       "\t 47     & M      & LOW    & HIGH   & 10.114 & drugC \\\\\n",
       "\t 28     & F      & NORMAL & HIGH   &  7.798 & drugX \\\\\n",
       "\t 61     & F      & LOW    & HIGH   & 18.043 & DrugY \\\\\n",
       "\t 22     & F      & NORMAL & HIGH   &  8.607 & drugX \\\\\n",
       "\\end{tabular}\n"
      ],
      "text/markdown": [
       "\n",
       "| Age | Sex | BP | Cholesterol | Na_to_K | Drug |\n",
       "|---|---|---|---|---|---|\n",
       "| 23     | F      | HIGH   | HIGH   | 25.355 | DrugY  |\n",
       "| 47     | M      | LOW    | HIGH   | 13.093 | drugC  |\n",
       "| 47     | M      | LOW    | HIGH   | 10.114 | drugC  |\n",
       "| 28     | F      | NORMAL | HIGH   |  7.798 | drugX  |\n",
       "| 61     | F      | LOW    | HIGH   | 18.043 | DrugY  |\n",
       "| 22     | F      | NORMAL | HIGH   |  8.607 | drugX  |\n",
       "\n"
      ],
      "text/plain": [
       "  Age Sex BP     Cholesterol Na_to_K Drug \n",
       "1 23  F   HIGH   HIGH        25.355  DrugY\n",
       "2 47  M   LOW    HIGH        13.093  drugC\n",
       "3 47  M   LOW    HIGH        10.114  drugC\n",
       "4 28  F   NORMAL HIGH         7.798  drugX\n",
       "5 61  F   LOW    HIGH        18.043  DrugY\n",
       "6 22  F   NORMAL HIGH         8.607  drugX"
      ]
     },
     "metadata": {},
     "output_type": "display_data"
    }
   ],
   "source": [
    "drug200 <- read_csv(\"C:/Users/acer/OneDrive/Desktop/drug200.csv\")\n",
    "head(drug200)"
   ]
  },
  {
   "cell_type": "markdown",
   "id": "6dea4176",
   "metadata": {},
   "source": [
    "### __Error Bar for Na to K__"
   ]
  },
  {
   "cell_type": "code",
   "execution_count": 23,
   "id": "ac39812f",
   "metadata": {},
   "outputs": [
    {
     "data": {
      "text/html": [
       "<table>\n",
       "<thead><tr><th scope=col>Group.1</th><th scope=col>Na_to_K</th></tr></thead>\n",
       "<tbody>\n",
       "\t<tr><td>drugA   </td><td>10.91878</td></tr>\n",
       "\t<tr><td>drugB   </td><td>11.52438</td></tr>\n",
       "\t<tr><td>drugC   </td><td>10.63375</td></tr>\n",
       "\t<tr><td>drugX   </td><td>10.65056</td></tr>\n",
       "\t<tr><td>DrugY   </td><td>22.37478</td></tr>\n",
       "</tbody>\n",
       "</table>\n"
      ],
      "text/latex": [
       "\\begin{tabular}{r|ll}\n",
       " Group.1 & Na\\_to\\_K\\\\\n",
       "\\hline\n",
       "\t drugA    & 10.91878\\\\\n",
       "\t drugB    & 11.52438\\\\\n",
       "\t drugC    & 10.63375\\\\\n",
       "\t drugX    & 10.65056\\\\\n",
       "\t DrugY    & 22.37478\\\\\n",
       "\\end{tabular}\n"
      ],
      "text/markdown": [
       "\n",
       "| Group.1 | Na_to_K |\n",
       "|---|---|\n",
       "| drugA    | 10.91878 |\n",
       "| drugB    | 11.52438 |\n",
       "| drugC    | 10.63375 |\n",
       "| drugX    | 10.65056 |\n",
       "| DrugY    | 22.37478 |\n",
       "\n"
      ],
      "text/plain": [
       "  Group.1 Na_to_K \n",
       "1 drugA   10.91878\n",
       "2 drugB   11.52438\n",
       "3 drugC   10.63375\n",
       "4 drugX   10.65056\n",
       "5 DrugY   22.37478"
      ]
     },
     "metadata": {},
     "output_type": "display_data"
    }
   ],
   "source": [
    "aggregate(drug200[5], list(drug200$Drug), mean)"
   ]
  },
  {
   "cell_type": "code",
   "execution_count": 24,
   "id": "8f5d0887",
   "metadata": {},
   "outputs": [
    {
     "data": {
      "text/html": [
       "<table>\n",
       "<thead><tr><th scope=col>Group.1</th><th scope=col>x</th></tr></thead>\n",
       "<tbody>\n",
       "\t<tr><td>drugA   </td><td>10.91878</td></tr>\n",
       "\t<tr><td>drugB   </td><td>11.52438</td></tr>\n",
       "\t<tr><td>drugC   </td><td>10.63375</td></tr>\n",
       "\t<tr><td>drugX   </td><td>10.65056</td></tr>\n",
       "\t<tr><td>DrugY   </td><td>22.37478</td></tr>\n",
       "</tbody>\n",
       "</table>\n"
      ],
      "text/latex": [
       "\\begin{tabular}{r|ll}\n",
       " Group.1 & x\\\\\n",
       "\\hline\n",
       "\t drugA    & 10.91878\\\\\n",
       "\t drugB    & 11.52438\\\\\n",
       "\t drugC    & 10.63375\\\\\n",
       "\t drugX    & 10.65056\\\\\n",
       "\t DrugY    & 22.37478\\\\\n",
       "\\end{tabular}\n"
      ],
      "text/markdown": [
       "\n",
       "| Group.1 | x |\n",
       "|---|---|\n",
       "| drugA    | 10.91878 |\n",
       "| drugB    | 11.52438 |\n",
       "| drugC    | 10.63375 |\n",
       "| drugX    | 10.65056 |\n",
       "| DrugY    | 22.37478 |\n",
       "\n"
      ],
      "text/plain": [
       "  Group.1 x       \n",
       "1 drugA   10.91878\n",
       "2 drugB   11.52438\n",
       "3 drugC   10.63375\n",
       "4 drugX   10.65056\n",
       "5 DrugY   22.37478"
      ]
     },
     "metadata": {},
     "output_type": "display_data"
    }
   ],
   "source": [
    "NaK_avg <- aggregate(drug200$Na_to_K, list(drug200$Drug), mean)\n",
    "NaK_avg"
   ]
  },
  {
   "cell_type": "code",
   "execution_count": 25,
   "id": "53739a30",
   "metadata": {},
   "outputs": [
    {
     "data": {
      "image/png": "[encoded data removed]",
      "text/plain": [
       "plot without title"
      ]
     },
     "metadata": {},
     "output_type": "display_data"
    }
   ],
   "source": [
    "plot(c(0,1,2,3,4), NaK_avg$x, xlab=\"Drug Types\", ylab=\"Avg Na to K Ratio\", type=\"b\", ylim=c(0,25), panel.first=grid(), lwd=3, col = \"blue\")\n",
    "axis(side = 1, at=c(0,1,2,3,4), labels = NaK_avg$Group.1)"
   ]
  },
  {
   "cell_type": "markdown",
   "id": "d7c114f6",
   "metadata": {},
   "source": [
    "Than follow the computation of the standard deviation"
   ]
  },
  {
   "cell_type": "code",
   "execution_count": 26,
   "id": "c5efc435",
   "metadata": {},
   "outputs": [
    {
     "data": {
      "text/html": [
       "<table>\n",
       "<thead><tr><th scope=col>Group.1</th><th scope=col>x</th></tr></thead>\n",
       "<tbody>\n",
       "\t<tr><td>drugA   </td><td>2.037642</td></tr>\n",
       "\t<tr><td>drugB   </td><td>1.869919</td></tr>\n",
       "\t<tr><td>drugC   </td><td>2.045009</td></tr>\n",
       "\t<tr><td>drugX   </td><td>2.198091</td></tr>\n",
       "\t<tr><td>DrugY   </td><td>6.060195</td></tr>\n",
       "</tbody>\n",
       "</table>\n"
      ],
      "text/latex": [
       "\\begin{tabular}{r|ll}\n",
       " Group.1 & x\\\\\n",
       "\\hline\n",
       "\t drugA    & 2.037642\\\\\n",
       "\t drugB    & 1.869919\\\\\n",
       "\t drugC    & 2.045009\\\\\n",
       "\t drugX    & 2.198091\\\\\n",
       "\t DrugY    & 6.060195\\\\\n",
       "\\end{tabular}\n"
      ],
      "text/markdown": [
       "\n",
       "| Group.1 | x |\n",
       "|---|---|\n",
       "| drugA    | 2.037642 |\n",
       "| drugB    | 1.869919 |\n",
       "| drugC    | 2.045009 |\n",
       "| drugX    | 2.198091 |\n",
       "| DrugY    | 6.060195 |\n",
       "\n"
      ],
      "text/plain": [
       "  Group.1 x       \n",
       "1 drugA   2.037642\n",
       "2 drugB   1.869919\n",
       "3 drugC   2.045009\n",
       "4 drugX   2.198091\n",
       "5 DrugY   6.060195"
      ]
     },
     "metadata": {},
     "output_type": "display_data"
    }
   ],
   "source": [
    "NaK_std<-aggregate(drug200$Na_to_K, list(drug200$Drug), sd)\n",
    "NaK_std"
   ]
  },
  {
   "cell_type": "code",
   "execution_count": 27,
   "id": "2d512537",
   "metadata": {},
   "outputs": [
    {
     "data": {
      "image/png": "[encoded data removed]",
      "text/plain": [
       "plot without title"
      ]
     },
     "metadata": {},
     "output_type": "display_data"
    }
   ],
   "source": [
    "errbar(x = c(0,1,2,3,4),y = NaK_avg$x,yplus= NaK_avg$x + NaK_std$x,yminus=NaK_avg$x - NaK_std$x,xlab=\"Drug Types\",\n",
    "       ylab=\"Avg Na_to_K\",type = \"b\",xlim = c(0, 5),ylim = c(0, 30),panel.first = grid(),lwd=3,col = \"blue\"    )\n",
    "     \n",
    "axis(side = 1,at=c(0,1,2,3,4),labels = NaK_std$Group.1)"
   ]
  },
  {
   "cell_type": "markdown",
   "id": "a11354fb",
   "metadata": {},
   "source": [
    "### __Error Bar for Age__"
   ]
  },
  {
   "cell_type": "code",
   "execution_count": 28,
   "id": "d26d61c3",
   "metadata": {},
   "outputs": [
    {
     "data": {
      "text/html": [
       "<table>\n",
       "<thead><tr><th scope=col>Group.1</th><th scope=col>Age</th></tr></thead>\n",
       "<tbody>\n",
       "\t<tr><td>drugA   </td><td>35.86957</td></tr>\n",
       "\t<tr><td>drugB   </td><td>62.50000</td></tr>\n",
       "\t<tr><td>drugC   </td><td>42.50000</td></tr>\n",
       "\t<tr><td>drugX   </td><td>44.01852</td></tr>\n",
       "\t<tr><td>DrugY   </td><td>43.74725</td></tr>\n",
       "</tbody>\n",
       "</table>\n"
      ],
      "text/latex": [
       "\\begin{tabular}{r|ll}\n",
       " Group.1 & Age\\\\\n",
       "\\hline\n",
       "\t drugA    & 35.86957\\\\\n",
       "\t drugB    & 62.50000\\\\\n",
       "\t drugC    & 42.50000\\\\\n",
       "\t drugX    & 44.01852\\\\\n",
       "\t DrugY    & 43.74725\\\\\n",
       "\\end{tabular}\n"
      ],
      "text/markdown": [
       "\n",
       "| Group.1 | Age |\n",
       "|---|---|\n",
       "| drugA    | 35.86957 |\n",
       "| drugB    | 62.50000 |\n",
       "| drugC    | 42.50000 |\n",
       "| drugX    | 44.01852 |\n",
       "| DrugY    | 43.74725 |\n",
       "\n"
      ],
      "text/plain": [
       "  Group.1 Age     \n",
       "1 drugA   35.86957\n",
       "2 drugB   62.50000\n",
       "3 drugC   42.50000\n",
       "4 drugX   44.01852\n",
       "5 DrugY   43.74725"
      ]
     },
     "metadata": {},
     "output_type": "display_data"
    }
   ],
   "source": [
    "Age_avg<-aggregate(drug200[1], list(drug200$Drug), mean)\n",
    "Age_avg"
   ]
  },
  {
   "cell_type": "code",
   "execution_count": 29,
   "id": "241981d4",
   "metadata": {},
   "outputs": [
    {
     "data": {
      "image/png": "[encoded data removed]",
      "text/plain": [
       "plot without title"
      ]
     },
     "metadata": {},
     "output_type": "display_data"
    }
   ],
   "source": [
    "plot(c(0,1,2,3,4), Age_avg$Age, xlab=\"Drug Types\", ylab=\"Avg of Age\", type=\"b\", ylim=c(0,80), panel.first=grid(), lwd=3, col = \"blue\")\n",
    "axis(side = 1, at=c(0,1,2,3,4), labels = Age_avg$Group.1)"
   ]
  },
  {
   "cell_type": "markdown",
   "id": "dfd3e0b8",
   "metadata": {},
   "source": [
    "Than follow the computation of the standard deviation"
   ]
  },
  {
   "cell_type": "code",
   "execution_count": 30,
   "id": "e4e3a21f",
   "metadata": {},
   "outputs": [
    {
     "data": {
      "text/html": [
       "<table>\n",
       "<thead><tr><th scope=col>Group.1</th><th scope=col>x</th></tr></thead>\n",
       "<tbody>\n",
       "\t<tr><td>drugA    </td><td> 9.696786</td></tr>\n",
       "\t<tr><td>drugB    </td><td> 7.127412</td></tr>\n",
       "\t<tr><td>drugC    </td><td>16.725230</td></tr>\n",
       "\t<tr><td>drugX    </td><td>16.435685</td></tr>\n",
       "\t<tr><td>DrugY    </td><td>17.031731</td></tr>\n",
       "</tbody>\n",
       "</table>\n"
      ],
      "text/latex": [
       "\\begin{tabular}{r|ll}\n",
       " Group.1 & x\\\\\n",
       "\\hline\n",
       "\t drugA     &  9.696786\\\\\n",
       "\t drugB     &  7.127412\\\\\n",
       "\t drugC     & 16.725230\\\\\n",
       "\t drugX     & 16.435685\\\\\n",
       "\t DrugY     & 17.031731\\\\\n",
       "\\end{tabular}\n"
      ],
      "text/markdown": [
       "\n",
       "| Group.1 | x |\n",
       "|---|---|\n",
       "| drugA     |  9.696786 |\n",
       "| drugB     |  7.127412 |\n",
       "| drugC     | 16.725230 |\n",
       "| drugX     | 16.435685 |\n",
       "| DrugY     | 17.031731 |\n",
       "\n"
      ],
      "text/plain": [
       "  Group.1 x        \n",
       "1 drugA    9.696786\n",
       "2 drugB    7.127412\n",
       "3 drugC   16.725230\n",
       "4 drugX   16.435685\n",
       "5 DrugY   17.031731"
      ]
     },
     "metadata": {},
     "output_type": "display_data"
    }
   ],
   "source": [
    "Age_std<-aggregate(drug200$Age, list(drug200$Drug), sd)\n",
    "Age_std"
   ]
  },
  {
   "cell_type": "code",
   "execution_count": 31,
   "id": "e95bcdb8",
   "metadata": {},
   "outputs": [
    {
     "data": {
      "image/png": "[encoded data removed]",
      "text/plain": [
       "plot without title"
      ]
     },
     "metadata": {},
     "output_type": "display_data"
    }
   ],
   "source": [
    "errbar(x = c(0,1,2,3,4),y = Age_avg$Age,yplus= Age_avg$Age + Age_std$x,yminus=Age_avg$Age - Age_std$x,\n",
    "       xlab=\"Drug Types\",ylab=\"Avg Age\",type = \"b\",xlim = c(0, 5),ylim = c(0, 70),\n",
    "       panel.first = grid(),lwd=3,col = \"blue\"    )\n",
    "     \n",
    "axis(side = 1,at=c(0,1,2,3,4),labels = Age_std$Group.1)"
   ]
  },
  {
   "cell_type": "markdown",
   "id": "96c33647",
   "metadata": {},
   "source": [
    "## Study of categorical variable"
   ]
  },
  {
   "cell_type": "markdown",
   "id": "deb22f0a",
   "metadata": {},
   "source": [
    "### Blood Pressure Levels and Drugs"
   ]
  },
  {
   "cell_type": "code",
   "execution_count": 32,
   "id": "4c214b84",
   "metadata": {},
   "outputs": [
    {
     "data": {
      "image/png": "[encoded data removed]",
      "text/plain": [
       "Plot with title \"Drugs distribution by Drug and BP\""
      ]
     },
     "metadata": {},
     "output_type": "display_data"
    }
   ],
   "source": [
    "counts <- table(drug200$BP, drug200$Drug)\n",
    "barplot(counts, main=\"Drugs distribution by Drug and BP\", xlab=\"Drug Types\", \n",
    "        col=c(\"blue\",\"red\",\"green\"), legend = rownames(counts))"
   ]
  },
  {
   "cell_type": "markdown",
   "id": "16d5b48d",
   "metadata": {},
   "source": [
    "### Cholesterol and Drugs"
   ]
  },
  {
   "cell_type": "code",
   "execution_count": 33,
   "id": "ea3fb364",
   "metadata": {},
   "outputs": [
    {
     "data": {
      "image/png": "[encoded data removed]",
      "text/plain": [
       "Plot with title \"Drugs distribution by Drug and Cholesterol\""
      ]
     },
     "metadata": {},
     "output_type": "display_data"
    }
   ],
   "source": [
    "counts <- table(drug200$Cholesterol, drug200$Drug)\n",
    "barplot(counts, main=\"Drugs distribution by Drug and Cholesterol\", xlab=\"Drug Types\", \n",
    "        col=c(\"blue\",\"red\"), legend = rownames(counts))"
   ]
  },
  {
   "cell_type": "markdown",
   "id": "c472c626",
   "metadata": {},
   "source": [
    "### Sex and Drugs"
   ]
  },
  {
   "cell_type": "code",
   "execution_count": 34,
   "id": "4e99f070",
   "metadata": {},
   "outputs": [
    {
     "data": {
      "image/png": "[encoded data removed]",
      "text/plain": [
       "Plot with title \"Drugs distribution by Drug and Sex\""
      ]
     },
     "metadata": {},
     "output_type": "display_data"
    }
   ],
   "source": [
    "counts <- table(drug200$Sex, drug200$Drug)\n",
    "barplot(counts, main=\"Drugs distribution by Drug and Sex\", xlab=\"Drug Types\", \n",
    "        col=c(\"green\",\"darkmagenta\"), legend = rownames(counts))"
   ]
  },
  {
   "cell_type": "markdown",
   "id": "1a641ff7",
   "metadata": {},
   "source": [
    "## Regression Analysis and Prediction"
   ]
  },
  {
   "cell_type": "markdown",
   "id": "6fba4910",
   "metadata": {},
   "source": [
    "### Regression btw Drug type and Na_to_K"
   ]
  },
  {
   "cell_type": "code",
   "execution_count": 41,
   "id": "02175952",
   "metadata": {},
   "outputs": [
    {
     "data": {
      "text/plain": [
       "\n",
       "Call:\n",
       "lm(formula = drug200$Drug ~ drug200$Na_to_K)\n",
       "\n",
       "Residuals:\n",
       "     Min       1Q   Median       3Q      Max \n",
       "-1.47118 -0.87158 -0.08126  0.53187  2.48001 \n",
       "\n",
       "Coefficients:\n",
       "                 Estimate Std. Error t value Pr(>|t|)    \n",
       "(Intercept)      3.333107   0.172240   19.35   <2e-16 ***\n",
       "drug200$Na_to_K -0.127334   0.009773  -13.03   <2e-16 ***\n",
       "---\n",
       "Signif. codes:  0 '***' 0.001 '**' 0.01 '*' 0.05 '.' 0.1 ' ' 1\n",
       "\n",
       "Residual standard error: 0.9959 on 198 degrees of freedom\n",
       "Multiple R-squared:  0.4616,\tAdjusted R-squared:  0.4589 \n",
       "F-statistic: 169.8 on 1 and 198 DF,  p-value: < 2.2e-16\n"
      ]
     },
     "metadata": {},
     "output_type": "display_data"
    },
    {
     "data": {
      "text/html": [
       "<dl class=dl-horizontal>\n",
       "\t<dt>(Intercept)</dt>\n",
       "\t\t<dd>3.33310660470616</dd>\n",
       "\t<dt>drug200$Na_to_K</dt>\n",
       "\t\t<dd>-0.127334297909206</dd>\n",
       "</dl>\n"
      ],
      "text/latex": [
       "\\begin{description*}\n",
       "\\item[(Intercept)] 3.33310660470616\n",
       "\\item[drug200\\textbackslash{}\\$Na\\textbackslash{}\\_to\\textbackslash{}\\_K] -0.127334297909206\n",
       "\\end{description*}\n"
      ],
      "text/markdown": [
       "(Intercept)\n",
       ":   3.33310660470616drug200$Na_to_K\n",
       ":   -0.127334297909206\n",
       "\n"
      ],
      "text/plain": [
       "    (Intercept) drug200$Na_to_K \n",
       "      3.3331066      -0.1273343 "
      ]
     },
     "metadata": {},
     "output_type": "display_data"
    }
   ],
   "source": [
    "drug_Na_to_K = lm(drug200$Drug~drug200$Na_to_K)\n",
    "summary(drug_Na_to_K)\n",
    "coef(drug_Na_to_K)"
   ]
  },
  {
   "cell_type": "code",
   "execution_count": 42,
   "id": "1514fed6",
   "metadata": {},
   "outputs": [
    {
     "data": {
      "text/html": [
       "<table>\n",
       "<thead><tr><th></th><th scope=col>2.5 %</th><th scope=col>97.5 %</th></tr></thead>\n",
       "<tbody>\n",
       "\t<tr><th scope=row>(Intercept)</th><td> 2.9934473</td><td> 3.6727659</td></tr>\n",
       "\t<tr><th scope=row>drug200$Na_to_K</th><td>-0.1466059</td><td>-0.1080627</td></tr>\n",
       "</tbody>\n",
       "</table>\n"
      ],
      "text/latex": [
       "\\begin{tabular}{r|ll}\n",
       "  & 2.5 \\% & 97.5 \\%\\\\\n",
       "\\hline\n",
       "\t(Intercept) &  2.9934473 &  3.6727659\\\\\n",
       "\tdrug200\\$Na\\_to\\_K & -0.1466059 & -0.1080627\\\\\n",
       "\\end{tabular}\n"
      ],
      "text/markdown": [
       "\n",
       "| <!--/--> | 2.5 % | 97.5 % |\n",
       "|---|---|---|\n",
       "| (Intercept) |  2.9934473 |  3.6727659 |\n",
       "| drug200$Na_to_K | -0.1466059 | -0.1080627 |\n",
       "\n"
      ],
      "text/plain": [
       "                2.5 %      97.5 %    \n",
       "(Intercept)      2.9934473  3.6727659\n",
       "drug200$Na_to_K -0.1466059 -0.1080627"
      ]
     },
     "metadata": {},
     "output_type": "display_data"
    }
   ],
   "source": [
    "confint(drug_Na_to_K)"
   ]
  },
  {
   "cell_type": "code",
   "execution_count": 43,
   "id": "ff4f6fba",
   "metadata": {},
   "outputs": [
    {
     "data": {
      "image/png": "[encoded data removed]",
      "text/plain": [
       "plot without title"
      ]
     },
     "metadata": {},
     "output_type": "display_data"
    }
   ],
   "source": [
    "plot(drug200$Drug,drug200$Na_to_K,xlim=c(0,4),ylim=c(0,40))\n",
    "abline(drug_Na_to_K,col=\"red\",lwd=4)"
   ]
  },
  {
   "cell_type": "markdown",
   "id": "4e6b4f81",
   "metadata": {},
   "source": [
    "We can see that the linear regression is useless for our study. Than we try to find a model that best fit our data"
   ]
  },
  {
   "cell_type": "code",
   "execution_count": 44,
   "id": "b89df2a4",
   "metadata": {},
   "outputs": [],
   "source": [
    "train <- drug200[1:150,]\n",
    "test <- drug200[151:199,]"
   ]
  },
  {
   "cell_type": "code",
   "execution_count": 45,
   "id": "5cb58d69",
   "metadata": {
    "scrolled": true
   },
   "outputs": [],
   "source": [
    "drug_model=glm(Drug~Na_to_K,data=train)"
   ]
  },
  {
   "cell_type": "code",
   "execution_count": 46,
   "id": "f0d19b98",
   "metadata": {},
   "outputs": [
    {
     "data": {
      "text/plain": [
       "\n",
       "Call:\n",
       "glm(formula = Drug ~ Na_to_K, data = train)\n",
       "\n",
       "Deviance Residuals: \n",
       "    Min       1Q   Median       3Q      Max  \n",
       "-1.4281  -0.8406  -0.1062   0.4690   2.4727  \n",
       "\n",
       "Coefficients:\n",
       "            Estimate Std. Error t value Pr(>|t|)    \n",
       "(Intercept)  3.34827    0.20077   16.68   <2e-16 ***\n",
       "Na_to_K     -0.12788    0.01136  -11.26   <2e-16 ***\n",
       "---\n",
       "Signif. codes:  0 '***' 0.001 '**' 0.01 '*' 0.05 '.' 0.1 ' ' 1\n",
       "\n",
       "(Dispersion parameter for gaussian family taken to be 1.014443)\n",
       "\n",
       "    Null deviance: 278.67  on 149  degrees of freedom\n",
       "Residual deviance: 150.14  on 148  degrees of freedom\n",
       "AIC: 431.82\n",
       "\n",
       "Number of Fisher Scoring iterations: 2\n"
      ]
     },
     "metadata": {},
     "output_type": "display_data"
    }
   ],
   "source": [
    "summary(drug_model)"
   ]
  },
  {
   "cell_type": "code",
   "execution_count": 47,
   "id": "4b9f56f8",
   "metadata": {},
   "outputs": [
    {
     "data": {
      "text/html": [
       "<table>\n",
       "<thead><tr><th></th><th scope=col>Df</th><th scope=col>Deviance</th><th scope=col>Resid. Df</th><th scope=col>Resid. Dev</th><th scope=col>Pr(&gt;Chi)</th></tr></thead>\n",
       "<tbody>\n",
       "\t<tr><th scope=row>NULL</th><td>NA          </td><td>      NA    </td><td>149         </td><td>278.6733    </td><td>          NA</td></tr>\n",
       "\t<tr><th scope=row>Na_to_K</th><td> 1          </td><td>128.5358    </td><td>148         </td><td>150.1376    </td><td>2.154633e-29</td></tr>\n",
       "</tbody>\n",
       "</table>\n"
      ],
      "text/latex": [
       "\\begin{tabular}{r|lllll}\n",
       "  & Df & Deviance & Resid. Df & Resid. Dev & Pr(>Chi)\\\\\n",
       "\\hline\n",
       "\tNULL & NA           &       NA     & 149          & 278.6733     &           NA\\\\\n",
       "\tNa\\_to\\_K &  1           & 128.5358     & 148          & 150.1376     & 2.154633e-29\\\\\n",
       "\\end{tabular}\n"
      ],
      "text/markdown": [
       "\n",
       "| <!--/--> | Df | Deviance | Resid. Df | Resid. Dev | Pr(>Chi) |\n",
       "|---|---|---|---|---|---|\n",
       "| NULL | NA           |       NA     | 149          | 278.6733     |           NA |\n",
       "| Na_to_K |  1           | 128.5358     | 148          | 150.1376     | 2.154633e-29 |\n",
       "\n"
      ],
      "text/plain": [
       "        Df Deviance Resid. Df Resid. Dev Pr(>Chi)    \n",
       "NULL    NA       NA 149       278.6733             NA\n",
       "Na_to_K  1 128.5358 148       150.1376   2.154633e-29"
      ]
     },
     "metadata": {},
     "output_type": "display_data"
    }
   ],
   "source": [
    "anova(drug_model, test=\"Chisq\")"
   ]
  },
  {
   "cell_type": "markdown",
   "id": "40d8dfb3",
   "metadata": {},
   "source": [
    "While no exact equivalent to the R2 of linear regression exists, the McFadden R2 index can be used to assess the model fit."
   ]
  },
  {
   "cell_type": "code",
   "execution_count": 50,
   "id": "3da3cf08",
   "metadata": {},
   "outputs": [],
   "source": [
    "library(pscl)"
   ]
  },
  {
   "cell_type": "code",
   "execution_count": 51,
   "id": "de827b3e",
   "metadata": {},
   "outputs": [
    {
     "name": "stdout",
     "output_type": "stream",
     "text": [
      "fitting null model for pseudo-r2\n"
     ]
    },
    {
     "data": {
      "text/html": [
       "<dl class=dl-horizontal>\n",
       "\t<dt>llh</dt>\n",
       "\t\t<dd>-212.90953003646</dd>\n",
       "\t<dt>llhNull</dt>\n",
       "\t\t<dd>-259.296151491637</dd>\n",
       "\t<dt>G2</dt>\n",
       "\t\t<dd>92.7732429103555</dd>\n",
       "\t<dt>McFadden</dt>\n",
       "\t\t<dd>0.178894369192648</dd>\n",
       "\t<dt>r2ML</dt>\n",
       "\t\t<dd>0.461241729318508</dd>\n",
       "\t<dt>r2CU</dt>\n",
       "\t\t<dd>0.476250921747182</dd>\n",
       "</dl>\n"
      ],
      "text/latex": [
       "\\begin{description*}\n",
       "\\item[llh] -212.90953003646\n",
       "\\item[llhNull] -259.296151491637\n",
       "\\item[G2] 92.7732429103555\n",
       "\\item[McFadden] 0.178894369192648\n",
       "\\item[r2ML] 0.461241729318508\n",
       "\\item[r2CU] 0.476250921747182\n",
       "\\end{description*}\n"
      ],
      "text/markdown": [
       "llh\n",
       ":   -212.90953003646llhNull\n",
       ":   -259.296151491637G2\n",
       ":   92.7732429103555McFadden\n",
       ":   0.178894369192648r2ML\n",
       ":   0.461241729318508r2CU\n",
       ":   0.476250921747182\n",
       "\n"
      ],
      "text/plain": [
       "         llh      llhNull           G2     McFadden         r2ML         r2CU \n",
       "-212.9095300 -259.2961515   92.7732429    0.1788944    0.4612417    0.4762509 "
      ]
     },
     "metadata": {},
     "output_type": "display_data"
    }
   ],
   "source": [
    "pR2(drug_model)"
   ]
  },
  {
   "cell_type": "code",
   "execution_count": 52,
   "id": "ef174633",
   "metadata": {},
   "outputs": [],
   "source": [
    "fitted.results <- predict(drug_model,newdata=subset(test,select=c(1,2,3,4,5,6)),type='response')\n",
    "fitted.results <- ifelse(fitted.results > 0.5,1,0)"
   ]
  },
  {
   "cell_type": "code",
   "execution_count": 53,
   "id": "a164163d",
   "metadata": {},
   "outputs": [
    {
     "name": "stdout",
     "output_type": "stream",
     "text": [
      "[1] \"Accuracy 0.285714285714286\"\n"
     ]
    }
   ],
   "source": [
    "misClasificError <- mean(fitted.results != test$Drug)\n",
    "print(paste('Accuracy',1-misClasificError))"
   ]
  },
  {
   "cell_type": "code",
   "execution_count": 174,
   "id": "bfa9a41e",
   "metadata": {},
   "outputs": [
    {
     "data": {
      "image/png": "[encoded data removed]",
      "text/plain": [
       "Plot with title \"\""
      ]
     },
     "metadata": {},
     "output_type": "display_data"
    },
    {
     "data": {
      "image/png": "[encoded data removed]",
      "text/plain": [
       "Plot with title \"\""
      ]
     },
     "metadata": {},
     "output_type": "display_data"
    },
    {
     "data": {
      "image/png": "[encoded data removed]",
      "text/plain": [
       "Plot with title \"\""
      ]
     },
     "metadata": {},
     "output_type": "display_data"
    },
    {
     "data": {
      "image/png": "[encoded data removed]",
      "text/plain": [
       "Plot with title \"\""
      ]
     },
     "metadata": {},
     "output_type": "display_data"
    }
   ],
   "source": [
    "plot(drug_model)"
   ]
  },
  {
   "cell_type": "markdown",
   "id": "0aae717e",
   "metadata": {},
   "source": [
    "### Regression btw Drug type and BP levels"
   ]
  },
  {
   "cell_type": "code",
   "execution_count": 54,
   "id": "fc657132",
   "metadata": {},
   "outputs": [
    {
     "data": {
      "text/plain": [
       "\n",
       "Call:\n",
       "lm(formula = drug200$Drug ~ drug200$BP)\n",
       "\n",
       "Residuals:\n",
       "    Min      1Q  Median      3Q     Max \n",
       "-1.7139 -1.2552  0.2036  1.2036  2.2861 \n",
       "\n",
       "Coefficients:\n",
       "            Estimate Std. Error t value Pr(>|t|)    \n",
       "(Intercept)   0.7964     0.1489   5.349 2.43e-07 ***\n",
       "drug200$BP    0.4587     0.1099   4.174 4.49e-05 ***\n",
       "---\n",
       "Signif. codes:  0 '***' 0.001 '**' 0.01 '*' 0.05 '.' 0.1 ' ' 1\n",
       "\n",
       "Residual standard error: 1.301 on 198 degrees of freedom\n",
       "Multiple R-squared:  0.08086,\tAdjusted R-squared:  0.07622 \n",
       "F-statistic: 17.42 on 1 and 198 DF,  p-value: 4.487e-05\n"
      ]
     },
     "metadata": {},
     "output_type": "display_data"
    },
    {
     "data": {
      "text/html": [
       "<dl class=dl-horizontal>\n",
       "\t<dt>(Intercept)</dt>\n",
       "\t\t<dd>0.796439656095038</dd>\n",
       "\t<dt>drug200$BP</dt>\n",
       "\t\t<dd>0.458742106953016</dd>\n",
       "</dl>\n"
      ],
      "text/latex": [
       "\\begin{description*}\n",
       "\\item[(Intercept)] 0.796439656095038\n",
       "\\item[drug200\\textbackslash{}\\$BP] 0.458742106953016\n",
       "\\end{description*}\n"
      ],
      "text/markdown": [
       "(Intercept)\n",
       ":   0.796439656095038drug200$BP\n",
       ":   0.458742106953016\n",
       "\n"
      ],
      "text/plain": [
       "(Intercept)  drug200$BP \n",
       "  0.7964397   0.4587421 "
      ]
     },
     "metadata": {},
     "output_type": "display_data"
    }
   ],
   "source": [
    "drug_BP = lm(drug200$Drug~drug200$BP)\n",
    "summary(drug_BP)\n",
    "coef(drug_BP)"
   ]
  },
  {
   "cell_type": "code",
   "execution_count": 55,
   "id": "307f1f62",
   "metadata": {},
   "outputs": [
    {
     "data": {
      "text/html": [
       "<table>\n",
       "<thead><tr><th></th><th scope=col>2.5 %</th><th scope=col>97.5 %</th></tr></thead>\n",
       "<tbody>\n",
       "\t<tr><th scope=row>(Intercept)</th><td>0.5028215</td><td>1.090058 </td></tr>\n",
       "\t<tr><th scope=row>drug200$BP</th><td>0.2419892</td><td>0.675495 </td></tr>\n",
       "</tbody>\n",
       "</table>\n"
      ],
      "text/latex": [
       "\\begin{tabular}{r|ll}\n",
       "  & 2.5 \\% & 97.5 \\%\\\\\n",
       "\\hline\n",
       "\t(Intercept) & 0.5028215 & 1.090058 \\\\\n",
       "\tdrug200\\$BP & 0.2419892 & 0.675495 \\\\\n",
       "\\end{tabular}\n"
      ],
      "text/markdown": [
       "\n",
       "| <!--/--> | 2.5 % | 97.5 % |\n",
       "|---|---|---|\n",
       "| (Intercept) | 0.5028215 | 1.090058  |\n",
       "| drug200$BP | 0.2419892 | 0.675495  |\n",
       "\n"
      ],
      "text/plain": [
       "            2.5 %     97.5 %  \n",
       "(Intercept) 0.5028215 1.090058\n",
       "drug200$BP  0.2419892 0.675495"
      ]
     },
     "metadata": {},
     "output_type": "display_data"
    }
   ],
   "source": [
    "confint(drug_BP)"
   ]
  },
  {
   "cell_type": "code",
   "execution_count": 56,
   "id": "e19788be",
   "metadata": {},
   "outputs": [
    {
     "data": {
      "image/png": "[encoded data removed]",
      "text/plain": [
       "plot without title"
      ]
     },
     "metadata": {},
     "output_type": "display_data"
    }
   ],
   "source": [
    "plot(drug200$Drug,drug200$BP,pch=16,cex=1,ylab=\"Levels of BP\",xlab=\"Drug Types\")\n",
    "abline(drug_BP,col=\"red\",lwd=4)"
   ]
  },
  {
   "cell_type": "markdown",
   "id": "a52b671a",
   "metadata": {},
   "source": [
    "### Regression btw Drug type and Age"
   ]
  },
  {
   "cell_type": "code",
   "execution_count": 57,
   "id": "a9d22099",
   "metadata": {},
   "outputs": [
    {
     "data": {
      "text/plain": [
       "\n",
       "Call:\n",
       "lm(formula = drug200$Drug ~ drug200$Age)\n",
       "\n",
       "Residuals:\n",
       "    Min      1Q  Median      3Q     Max \n",
       "-1.5684 -1.2462 -0.2820  0.8708  2.6512 \n",
       "\n",
       "Coefficients:\n",
       "            Estimate Std. Error t value Pr(>|t|)   \n",
       "(Intercept) 0.861902   0.273129   3.156  0.00185 **\n",
       "drug200$Age 0.009548   0.005776   1.653  0.09991 . \n",
       "---\n",
       "Signif. codes:  0 '***' 0.001 '**' 0.01 '*' 0.05 '.' 0.1 ' ' 1\n",
       "\n",
       "Residual standard error: 1.348 on 198 degrees of freedom\n",
       "Multiple R-squared:  0.01361,\tAdjusted R-squared:  0.00863 \n",
       "F-statistic: 2.732 on 1 and 198 DF,  p-value: 0.09991\n"
      ]
     },
     "metadata": {},
     "output_type": "display_data"
    },
    {
     "data": {
      "text/html": [
       "<dl class=dl-horizontal>\n",
       "\t<dt>(Intercept)</dt>\n",
       "\t\t<dd>0.861901933305189</dd>\n",
       "\t<dt>drug200$Age</dt>\n",
       "\t\t<dd>0.00954751363409254</dd>\n",
       "</dl>\n"
      ],
      "text/latex": [
       "\\begin{description*}\n",
       "\\item[(Intercept)] 0.861901933305189\n",
       "\\item[drug200\\textbackslash{}\\$Age] 0.00954751363409254\n",
       "\\end{description*}\n"
      ],
      "text/markdown": [
       "(Intercept)\n",
       ":   0.861901933305189drug200$Age\n",
       ":   0.00954751363409254\n",
       "\n"
      ],
      "text/plain": [
       "(Intercept) drug200$Age \n",
       "0.861901933 0.009547514 "
      ]
     },
     "metadata": {},
     "output_type": "display_data"
    }
   ],
   "source": [
    "drug_Age = lm(drug200$Drug~drug200$Age)\n",
    "summary(drug_Age)\n",
    "coef(drug_Age)"
   ]
  },
  {
   "cell_type": "code",
   "execution_count": 58,
   "id": "06ca871e",
   "metadata": {},
   "outputs": [
    {
     "data": {
      "text/html": [
       "<table>\n",
       "<thead><tr><th></th><th scope=col>2.5 %</th><th scope=col>97.5 %</th></tr></thead>\n",
       "<tbody>\n",
       "\t<tr><th scope=row>(Intercept)</th><td> 0.32328596</td><td>1.40051791 </td></tr>\n",
       "\t<tr><th scope=row>drug200$Age</th><td>-0.00184258</td><td>0.02093761 </td></tr>\n",
       "</tbody>\n",
       "</table>\n"
      ],
      "text/latex": [
       "\\begin{tabular}{r|ll}\n",
       "  & 2.5 \\% & 97.5 \\%\\\\\n",
       "\\hline\n",
       "\t(Intercept) &  0.32328596 & 1.40051791 \\\\\n",
       "\tdrug200\\$Age & -0.00184258 & 0.02093761 \\\\\n",
       "\\end{tabular}\n"
      ],
      "text/markdown": [
       "\n",
       "| <!--/--> | 2.5 % | 97.5 % |\n",
       "|---|---|---|\n",
       "| (Intercept) |  0.32328596 | 1.40051791  |\n",
       "| drug200$Age | -0.00184258 | 0.02093761  |\n",
       "\n"
      ],
      "text/plain": [
       "            2.5 %       97.5 %    \n",
       "(Intercept)  0.32328596 1.40051791\n",
       "drug200$Age -0.00184258 0.02093761"
      ]
     },
     "metadata": {},
     "output_type": "display_data"
    }
   ],
   "source": [
    "confint(drug_Age)"
   ]
  },
  {
   "cell_type": "code",
   "execution_count": 59,
   "id": "31ed03ea",
   "metadata": {},
   "outputs": [
    {
     "data": {
      "image/png": "[encoded data removed]",
      "text/plain": [
       "plot without title"
      ]
     },
     "metadata": {},
     "output_type": "display_data"
    }
   ],
   "source": [
    "plot(drug200$Drug,drug200$Age,ylim=c(-5,80),pch=16,cex=1,ylab=\"Age\",xlab=\"Drug Types\")\n",
    "\n",
    "abline(lm(drug200$Drug~drug200$Age),col=\"red\",lwd=4)"
   ]
  },
  {
   "cell_type": "markdown",
   "id": "3360bc24",
   "metadata": {},
   "source": [
    "## Multiple Linear Regression"
   ]
  },
  {
   "cell_type": "markdown",
   "id": "0be68889",
   "metadata": {},
   "source": [
    "Drug200 data set contains six variables, to perform a regression using all of the predictor we can use the following procedure."
   ]
  },
  {
   "cell_type": "code",
   "execution_count": 60,
   "id": "be5137a7",
   "metadata": {},
   "outputs": [
    {
     "data": {
      "text/plain": [
       "\n",
       "Call:\n",
       "lm(formula = drug200$Drug ~ ., data = drug200)\n",
       "\n",
       "Residuals:\n",
       "     Min       1Q   Median       3Q      Max \n",
       "-2.23151 -0.55787 -0.02926  0.59070  2.06892 \n",
       "\n",
       "Coefficients:\n",
       "             Estimate Std. Error t value Pr(>|t|)    \n",
       "(Intercept)  2.461959   0.271460   9.069  < 2e-16 ***\n",
       "Age          0.009551   0.003892   2.454    0.015 *  \n",
       "Sex          0.004784   0.128259   0.037    0.970    \n",
       "BP           0.518897   0.076215   6.808  1.2e-10 ***\n",
       "Cholesterol -0.179312   0.126910  -1.413    0.159    \n",
       "Na_to_K     -0.128259   0.008863 -14.471  < 2e-16 ***\n",
       "---\n",
       "Signif. codes:  0 '***' 0.001 '**' 0.01 '*' 0.05 '.' 0.1 ' ' 1\n",
       "\n",
       "Residual standard error: 0.8946 on 194 degrees of freedom\n",
       "Multiple R-squared:  0.5743,\tAdjusted R-squared:  0.5633 \n",
       "F-statistic: 52.35 on 5 and 194 DF,  p-value: < 2.2e-16\n"
      ]
     },
     "metadata": {},
     "output_type": "display_data"
    }
   ],
   "source": [
    "drug_all=lm(drug200$Drug~., data=drug200)\n",
    "summary(drug_all)"
   ]
  },
  {
   "cell_type": "code",
   "execution_count": 61,
   "id": "1acfb40f",
   "metadata": {},
   "outputs": [
    {
     "data": {
      "text/html": [
       "0.57432073863215"
      ],
      "text/latex": [
       "0.57432073863215"
      ],
      "text/markdown": [
       "0.57432073863215"
      ],
      "text/plain": [
       "[1] 0.5743207"
      ]
     },
     "metadata": {},
     "output_type": "display_data"
    },
    {
     "data": {
      "text/html": [
       "0.894624954478939"
      ],
      "text/latex": [
       "0.894624954478939"
      ],
      "text/markdown": [
       "0.894624954478939"
      ],
      "text/plain": [
       "[1] 0.894625"
      ]
     },
     "metadata": {},
     "output_type": "display_data"
    },
    {
     "data": {
      "text/html": [
       "<dl class=dl-horizontal>\n",
       "\t<dt>value</dt>\n",
       "\t\t<dd>52.3484385575248</dd>\n",
       "\t<dt>numdf</dt>\n",
       "\t\t<dd>5</dd>\n",
       "\t<dt>dendf</dt>\n",
       "\t\t<dd>194</dd>\n",
       "</dl>\n"
      ],
      "text/latex": [
       "\\begin{description*}\n",
       "\\item[value] 52.3484385575248\n",
       "\\item[numdf] 5\n",
       "\\item[dendf] 194\n",
       "\\end{description*}\n"
      ],
      "text/markdown": [
       "value\n",
       ":   52.3484385575248numdf\n",
       ":   5dendf\n",
       ":   194\n",
       "\n"
      ],
      "text/plain": [
       "    value     numdf     dendf \n",
       " 52.34844   5.00000 194.00000 "
      ]
     },
     "metadata": {},
     "output_type": "display_data"
    }
   ],
   "source": [
    "summary(drug_all)$r.squared\n",
    "summary(drug_all)$sigma\n",
    "summary(drug_all)$fstatistic"
   ]
  },
  {
   "cell_type": "markdown",
   "id": "cb6cf867",
   "metadata": {},
   "source": [
    "__In the above regression output, the predictors 'Sex' and 'Cholesterol' have high p-values.\n",
    "So we may want to run a regression excluding these predictors.__"
   ]
  },
  {
   "cell_type": "code",
   "execution_count": 62,
   "id": "4d8bf4dc",
   "metadata": {},
   "outputs": [
    {
     "data": {
      "text/plain": [
       "\n",
       "Call:\n",
       "lm(formula = drug200$Drug ~ . - Sex - Cholesterol, data = drug200)\n",
       "\n",
       "Residuals:\n",
       "     Min       1Q   Median       3Q      Max \n",
       "-2.12911 -0.52996  0.01485  0.61746  1.98627 \n",
       "\n",
       "Coefficients:\n",
       "             Estimate Std. Error t value Pr(>|t|)    \n",
       "(Intercept)  2.384121   0.255932   9.315  < 2e-16 ***\n",
       "Age          0.009211   0.003868   2.381   0.0182 *  \n",
       "BP           0.521399   0.076159   6.846 9.51e-11 ***\n",
       "Na_to_K     -0.128236   0.008800 -14.572  < 2e-16 ***\n",
       "---\n",
       "Signif. codes:  0 '***' 0.001 '**' 0.01 '*' 0.05 '.' 0.1 ' ' 1\n",
       "\n",
       "Residual standard error: 0.8946 on 196 degrees of freedom\n",
       "Multiple R-squared:  0.5699,\tAdjusted R-squared:  0.5634 \n",
       "F-statistic: 86.58 on 3 and 196 DF,  p-value: < 2.2e-16\n"
      ]
     },
     "metadata": {},
     "output_type": "display_data"
    }
   ],
   "source": [
    "drug_adj=lm(drug200$Drug~.-Sex-Cholesterol, data=drug200)\n",
    "summary(drug_adj)"
   ]
  },
  {
   "cell_type": "code",
   "execution_count": 63,
   "id": "6498b2d4",
   "metadata": {},
   "outputs": [
    {
     "data": {
      "text/html": [
       "<ol class=list-inline>\n",
       "\t<li>'call'</li>\n",
       "\t<li>'terms'</li>\n",
       "\t<li>'residuals'</li>\n",
       "\t<li>'coefficients'</li>\n",
       "\t<li>'aliased'</li>\n",
       "\t<li>'sigma'</li>\n",
       "\t<li>'df'</li>\n",
       "\t<li>'r.squared'</li>\n",
       "\t<li>'adj.r.squared'</li>\n",
       "\t<li>'fstatistic'</li>\n",
       "\t<li>'cov.unscaled'</li>\n",
       "</ol>\n"
      ],
      "text/latex": [
       "\\begin{enumerate*}\n",
       "\\item 'call'\n",
       "\\item 'terms'\n",
       "\\item 'residuals'\n",
       "\\item 'coefficients'\n",
       "\\item 'aliased'\n",
       "\\item 'sigma'\n",
       "\\item 'df'\n",
       "\\item 'r.squared'\n",
       "\\item 'adj.r.squared'\n",
       "\\item 'fstatistic'\n",
       "\\item 'cov.unscaled'\n",
       "\\end{enumerate*}\n"
      ],
      "text/markdown": [
       "1. 'call'\n",
       "2. 'terms'\n",
       "3. 'residuals'\n",
       "4. 'coefficients'\n",
       "5. 'aliased'\n",
       "6. 'sigma'\n",
       "7. 'df'\n",
       "8. 'r.squared'\n",
       "9. 'adj.r.squared'\n",
       "10. 'fstatistic'\n",
       "11. 'cov.unscaled'\n",
       "\n",
       "\n"
      ],
      "text/plain": [
       " [1] \"call\"          \"terms\"         \"residuals\"     \"coefficients\" \n",
       " [5] \"aliased\"       \"sigma\"         \"df\"            \"r.squared\"    \n",
       " [9] \"adj.r.squared\" \"fstatistic\"    \"cov.unscaled\" "
      ]
     },
     "metadata": {},
     "output_type": "display_data"
    },
    {
     "data": {
      "text/html": [
       "0.569937474706267"
      ],
      "text/latex": [
       "0.569937474706267"
      ],
      "text/markdown": [
       "0.569937474706267"
      ],
      "text/plain": [
       "[1] 0.5699375"
      ]
     },
     "metadata": {},
     "output_type": "display_data"
    },
    {
     "data": {
      "text/html": [
       "0.894619564605581"
      ],
      "text/latex": [
       "0.894619564605581"
      ],
      "text/markdown": [
       "0.894619564605581"
      ],
      "text/plain": [
       "[1] 0.8946196"
      ]
     },
     "metadata": {},
     "output_type": "display_data"
    },
    {
     "data": {
      "text/html": [
       "<dl class=dl-horizontal>\n",
       "\t<dt>value</dt>\n",
       "\t\t<dd>86.5825614280403</dd>\n",
       "\t<dt>numdf</dt>\n",
       "\t\t<dd>3</dd>\n",
       "\t<dt>dendf</dt>\n",
       "\t\t<dd>196</dd>\n",
       "</dl>\n"
      ],
      "text/latex": [
       "\\begin{description*}\n",
       "\\item[value] 86.5825614280403\n",
       "\\item[numdf] 3\n",
       "\\item[dendf] 196\n",
       "\\end{description*}\n"
      ],
      "text/markdown": [
       "value\n",
       ":   86.5825614280403numdf\n",
       ":   3dendf\n",
       ":   196\n",
       "\n"
      ],
      "text/plain": [
       "    value     numdf     dendf \n",
       " 86.58256   3.00000 196.00000 "
      ]
     },
     "metadata": {},
     "output_type": "display_data"
    }
   ],
   "source": [
    "names(summary(drug_adj))\n",
    "summary(drug_adj)$r.squared\n",
    "summary(drug_adj)$sigma\n",
    "summary(drug_adj)$fstatistic"
   ]
  },
  {
   "cell_type": "code",
   "execution_count": 64,
   "id": "094135f5",
   "metadata": {},
   "outputs": [
    {
     "data": {
      "text/html": [
       "<dl class=dl-horizontal>\n",
       "\t<dt>(Intercept)</dt>\n",
       "\t\t<dd>2.38412132383578</dd>\n",
       "\t<dt>Age</dt>\n",
       "\t\t<dd>0.00921132494246481</dd>\n",
       "\t<dt>BP</dt>\n",
       "\t\t<dd>0.521399486074905</dd>\n",
       "\t<dt>Na_to_K</dt>\n",
       "\t\t<dd>-0.128236100896664</dd>\n",
       "</dl>\n"
      ],
      "text/latex": [
       "\\begin{description*}\n",
       "\\item[(Intercept)] 2.38412132383578\n",
       "\\item[Age] 0.00921132494246481\n",
       "\\item[BP] 0.521399486074905\n",
       "\\item[Na\\textbackslash{}\\_to\\textbackslash{}\\_K] -0.128236100896664\n",
       "\\end{description*}\n"
      ],
      "text/markdown": [
       "(Intercept)\n",
       ":   2.38412132383578Age\n",
       ":   0.00921132494246481BP\n",
       ":   0.521399486074905Na_to_K\n",
       ":   -0.128236100896664\n",
       "\n"
      ],
      "text/plain": [
       " (Intercept)          Age           BP      Na_to_K \n",
       " 2.384121324  0.009211325  0.521399486 -0.128236101 "
      ]
     },
     "metadata": {},
     "output_type": "display_data"
    },
    {
     "data": {
      "text/html": [
       "<table>\n",
       "<thead><tr><th></th><th scope=col>2.5 %</th><th scope=col>97.5 %</th></tr></thead>\n",
       "<tbody>\n",
       "\t<tr><th scope=row>(Intercept)</th><td> 1.879387854</td><td> 2.88885479 </td></tr>\n",
       "\t<tr><th scope=row>Age</th><td> 0.001582456</td><td> 0.01684019 </td></tr>\n",
       "\t<tr><th scope=row>BP</th><td> 0.371203021</td><td> 0.67159595 </td></tr>\n",
       "\t<tr><th scope=row>Na_to_K</th><td>-0.145591352</td><td>-0.11088085 </td></tr>\n",
       "</tbody>\n",
       "</table>\n"
      ],
      "text/latex": [
       "\\begin{tabular}{r|ll}\n",
       "  & 2.5 \\% & 97.5 \\%\\\\\n",
       "\\hline\n",
       "\t(Intercept) &  1.879387854 &  2.88885479 \\\\\n",
       "\tAge &  0.001582456 &  0.01684019 \\\\\n",
       "\tBP &  0.371203021 &  0.67159595 \\\\\n",
       "\tNa\\_to\\_K & -0.145591352 & -0.11088085 \\\\\n",
       "\\end{tabular}\n"
      ],
      "text/markdown": [
       "\n",
       "| <!--/--> | 2.5 % | 97.5 % |\n",
       "|---|---|---|\n",
       "| (Intercept) |  1.879387854 |  2.88885479  |\n",
       "| Age |  0.001582456 |  0.01684019  |\n",
       "| BP |  0.371203021 |  0.67159595  |\n",
       "| Na_to_K | -0.145591352 | -0.11088085  |\n",
       "\n"
      ],
      "text/plain": [
       "            2.5 %        97.5 %     \n",
       "(Intercept)  1.879387854  2.88885479\n",
       "Age          0.001582456  0.01684019\n",
       "BP           0.371203021  0.67159595\n",
       "Na_to_K     -0.145591352 -0.11088085"
      ]
     },
     "metadata": {},
     "output_type": "display_data"
    }
   ],
   "source": [
    "coef(drug_adj)\n",
    "confint(drug_adj)"
   ]
  },
  {
   "cell_type": "markdown",
   "id": "44d84a85",
   "metadata": {},
   "source": [
    "## PCA and Cluster Analysis"
   ]
  },
  {
   "cell_type": "code",
   "execution_count": 65,
   "id": "5f7be7e0",
   "metadata": {},
   "outputs": [
    {
     "data": {
      "text/html": [
       "<ol class=list-inline>\n",
       "\t<li>'sdev'</li>\n",
       "\t<li>'rotation'</li>\n",
       "\t<li>'center'</li>\n",
       "\t<li>'scale'</li>\n",
       "\t<li>'x'</li>\n",
       "</ol>\n"
      ],
      "text/latex": [
       "\\begin{enumerate*}\n",
       "\\item 'sdev'\n",
       "\\item 'rotation'\n",
       "\\item 'center'\n",
       "\\item 'scale'\n",
       "\\item 'x'\n",
       "\\end{enumerate*}\n"
      ],
      "text/markdown": [
       "1. 'sdev'\n",
       "2. 'rotation'\n",
       "3. 'center'\n",
       "4. 'scale'\n",
       "5. 'x'\n",
       "\n",
       "\n"
      ],
      "text/plain": [
       "[1] \"sdev\"     \"rotation\" \"center\"   \"scale\"    \"x\"       "
      ]
     },
     "metadata": {},
     "output_type": "display_data"
    }
   ],
   "source": [
    "drug200_scaled= scale(drug200)\n",
    "pca_drug200= prcomp(drug200_scaled)\n",
    "names(pca_drug200)"
   ]
  },
  {
   "cell_type": "code",
   "execution_count": 66,
   "id": "77dc81bd",
   "metadata": {},
   "outputs": [
    {
     "data": {
      "text/html": [
       "<table>\n",
       "<thead><tr><th></th><th scope=col>PC1</th><th scope=col>PC2</th><th scope=col>PC3</th><th scope=col>PC4</th><th scope=col>PC5</th><th scope=col>PC6</th></tr></thead>\n",
       "<tbody>\n",
       "\t<tr><th scope=row>Age</th><td> 0.1503695  </td><td>-0.57149028 </td><td>-0.054066118</td><td> 0.11558707 </td><td> 0.78869205 </td><td>-0.11166565 </td></tr>\n",
       "\t<tr><th scope=row>Sex</th><td> 0.1902822  </td><td>-0.40062623 </td><td> 0.328692635</td><td>-0.81348473 </td><td>-0.18156997 </td><td> 0.02296494 </td></tr>\n",
       "\t<tr><th scope=row>BP</th><td> 0.1930423  </td><td> 0.61934280 </td><td>-0.286355881</td><td>-0.47773293 </td><td> 0.41912134 </td><td>-0.30538178 </td></tr>\n",
       "\t<tr><th scope=row>Cholesterol</th><td>-0.0401098  </td><td>-0.31973056 </td><td>-0.896447011</td><td>-0.15571705 </td><td>-0.25389272 </td><td> 0.06194369 </td></tr>\n",
       "\t<tr><th scope=row>Na_to_K</th><td>-0.6487600  </td><td> 0.09659484 </td><td>-0.007891596</td><td>-0.25613522 </td><td> 0.32038940 </td><td> 0.63361106 </td></tr>\n",
       "\t<tr><th scope=row>Drug</th><td> 0.6938429  </td><td> 0.13324333 </td><td>-0.057955106</td><td> 0.08246463 </td><td> 0.04715538 </td><td> 0.69888867 </td></tr>\n",
       "</tbody>\n",
       "</table>\n"
      ],
      "text/latex": [
       "\\begin{tabular}{r|llllll}\n",
       "  & PC1 & PC2 & PC3 & PC4 & PC5 & PC6\\\\\n",
       "\\hline\n",
       "\tAge &  0.1503695   & -0.57149028  & -0.054066118 &  0.11558707  &  0.78869205  & -0.11166565 \\\\\n",
       "\tSex &  0.1902822   & -0.40062623  &  0.328692635 & -0.81348473  & -0.18156997  &  0.02296494 \\\\\n",
       "\tBP &  0.1930423   &  0.61934280  & -0.286355881 & -0.47773293  &  0.41912134  & -0.30538178 \\\\\n",
       "\tCholesterol & -0.0401098   & -0.31973056  & -0.896447011 & -0.15571705  & -0.25389272  &  0.06194369 \\\\\n",
       "\tNa\\_to\\_K & -0.6487600   &  0.09659484  & -0.007891596 & -0.25613522  &  0.32038940  &  0.63361106 \\\\\n",
       "\tDrug &  0.6938429   &  0.13324333  & -0.057955106 &  0.08246463  &  0.04715538  &  0.69888867 \\\\\n",
       "\\end{tabular}\n"
      ],
      "text/markdown": [
       "\n",
       "| <!--/--> | PC1 | PC2 | PC3 | PC4 | PC5 | PC6 |\n",
       "|---|---|---|---|---|---|---|\n",
       "| Age |  0.1503695   | -0.57149028  | -0.054066118 |  0.11558707  |  0.78869205  | -0.11166565  |\n",
       "| Sex |  0.1902822   | -0.40062623  |  0.328692635 | -0.81348473  | -0.18156997  |  0.02296494  |\n",
       "| BP |  0.1930423   |  0.61934280  | -0.286355881 | -0.47773293  |  0.41912134  | -0.30538178  |\n",
       "| Cholesterol | -0.0401098   | -0.31973056  | -0.896447011 | -0.15571705  | -0.25389272  |  0.06194369  |\n",
       "| Na_to_K | -0.6487600   |  0.09659484  | -0.007891596 | -0.25613522  |  0.32038940  |  0.63361106  |\n",
       "| Drug |  0.6938429   |  0.13324333  | -0.057955106 |  0.08246463  |  0.04715538  |  0.69888867  |\n",
       "\n"
      ],
      "text/plain": [
       "            PC1        PC2         PC3          PC4         PC5        \n",
       "Age          0.1503695 -0.57149028 -0.054066118  0.11558707  0.78869205\n",
       "Sex          0.1902822 -0.40062623  0.328692635 -0.81348473 -0.18156997\n",
       "BP           0.1930423  0.61934280 -0.286355881 -0.47773293  0.41912134\n",
       "Cholesterol -0.0401098 -0.31973056 -0.896447011 -0.15571705 -0.25389272\n",
       "Na_to_K     -0.6487600  0.09659484 -0.007891596 -0.25613522  0.32038940\n",
       "Drug         0.6938429  0.13324333 -0.057955106  0.08246463  0.04715538\n",
       "            PC6        \n",
       "Age         -0.11166565\n",
       "Sex          0.02296494\n",
       "BP          -0.30538178\n",
       "Cholesterol  0.06194369\n",
       "Na_to_K      0.63361106\n",
       "Drug         0.69888867"
      ]
     },
     "metadata": {},
     "output_type": "display_data"
    }
   ],
   "source": [
    "pca_drug200$rotation"
   ]
  },
  {
   "cell_type": "code",
   "execution_count": 67,
   "id": "b6bbba5d",
   "metadata": {},
   "outputs": [
    {
     "data": {
      "text/html": [
       "<table>\n",
       "<thead><tr><th scope=col>PC1</th><th scope=col>PC2</th><th scope=col>PC3</th><th scope=col>PC4</th><th scope=col>PC5</th><th scope=col>PC6</th></tr></thead>\n",
       "<tbody>\n",
       "\t<tr><td>-1.70614648</td><td> 1.5302430 </td><td>-1.4135250 </td><td>-0.3942936 </td><td>-0.2400240 </td><td>-0.01047605</td></tr>\n",
       "\t<tr><td> 0.04555564</td><td>-1.6402093 </td><td>-0.1826727 </td><td>-0.2166260 </td><td>-0.9662617 </td><td> 0.04188228</td></tr>\n",
       "\t<tr><td> 0.31308997</td><td>-1.6800429 </td><td>-0.1794183 </td><td>-0.1110015 </td><td>-1.0983832 </td><td>-0.21940496</td></tr>\n",
       "\t<tr><td> 0.71099437</td><td> 0.5816050 </td><td>-1.1550845 </td><td> 0.9542235 </td><td>-1.2100914 </td><td>-0.18781907</td></tr>\n",
       "\t<tr><td>-1.16415121</td><td>-1.3561529 </td><td>-0.8472892 </td><td> 1.2689623 </td><td> 0.2483672 </td><td>-0.18051799</td></tr>\n",
       "\t<tr><td> 0.58380735</td><td> 0.7996805 </td><td>-1.1363605 </td><td> 0.8836202 </td><td>-1.4602403 </td><td>-0.07636499</td></tr>\n",
       "</tbody>\n",
       "</table>\n"
      ],
      "text/latex": [
       "\\begin{tabular}{llllll}\n",
       " PC1 & PC2 & PC3 & PC4 & PC5 & PC6\\\\\n",
       "\\hline\n",
       "\t -1.70614648 &  1.5302430  & -1.4135250  & -0.3942936  & -0.2400240  & -0.01047605\\\\\n",
       "\t  0.04555564 & -1.6402093  & -0.1826727  & -0.2166260  & -0.9662617  &  0.04188228\\\\\n",
       "\t  0.31308997 & -1.6800429  & -0.1794183  & -0.1110015  & -1.0983832  & -0.21940496\\\\\n",
       "\t  0.71099437 &  0.5816050  & -1.1550845  &  0.9542235  & -1.2100914  & -0.18781907\\\\\n",
       "\t -1.16415121 & -1.3561529  & -0.8472892  &  1.2689623  &  0.2483672  & -0.18051799\\\\\n",
       "\t  0.58380735 &  0.7996805  & -1.1363605  &  0.8836202  & -1.4602403  & -0.07636499\\\\\n",
       "\\end{tabular}\n"
      ],
      "text/markdown": [
       "\n",
       "| PC1 | PC2 | PC3 | PC4 | PC5 | PC6 |\n",
       "|---|---|---|---|---|---|\n",
       "| -1.70614648 |  1.5302430  | -1.4135250  | -0.3942936  | -0.2400240  | -0.01047605 |\n",
       "|  0.04555564 | -1.6402093  | -0.1826727  | -0.2166260  | -0.9662617  |  0.04188228 |\n",
       "|  0.31308997 | -1.6800429  | -0.1794183  | -0.1110015  | -1.0983832  | -0.21940496 |\n",
       "|  0.71099437 |  0.5816050  | -1.1550845  |  0.9542235  | -1.2100914  | -0.18781907 |\n",
       "| -1.16415121 | -1.3561529  | -0.8472892  |  1.2689623  |  0.2483672  | -0.18051799 |\n",
       "|  0.58380735 |  0.7996805  | -1.1363605  |  0.8836202  | -1.4602403  | -0.07636499 |\n",
       "\n"
      ],
      "text/plain": [
       "     PC1         PC2        PC3        PC4        PC5        PC6        \n",
       "[1,] -1.70614648  1.5302430 -1.4135250 -0.3942936 -0.2400240 -0.01047605\n",
       "[2,]  0.04555564 -1.6402093 -0.1826727 -0.2166260 -0.9662617  0.04188228\n",
       "[3,]  0.31308997 -1.6800429 -0.1794183 -0.1110015 -1.0983832 -0.21940496\n",
       "[4,]  0.71099437  0.5816050 -1.1550845  0.9542235 -1.2100914 -0.18781907\n",
       "[5,] -1.16415121 -1.3561529 -0.8472892  1.2689623  0.2483672 -0.18051799\n",
       "[6,]  0.58380735  0.7996805 -1.1363605  0.8836202 -1.4602403 -0.07636499"
      ]
     },
     "metadata": {},
     "output_type": "display_data"
    }
   ],
   "source": [
    "head(pca_drug200$x)"
   ]
  },
  {
   "cell_type": "code",
   "execution_count": 68,
   "id": "34c5ef1a",
   "metadata": {},
   "outputs": [
    {
     "data": {
      "image/png": "[encoded data removed]",
      "text/plain": [
       "plot without title"
      ]
     },
     "metadata": {},
     "output_type": "display_data"
    }
   ],
   "source": [
    "pca_scores= data.frame(pca_drug200$x[,c(1,5)])\n",
    "plot(pca_scores)"
   ]
  },
  {
   "cell_type": "code",
   "execution_count": 69,
   "id": "fd01f3a0",
   "metadata": {},
   "outputs": [
    {
     "data": {
      "image/png": "[encoded data removed]",
      "text/plain": [
       "plot without title"
      ]
     },
     "metadata": {},
     "output_type": "display_data"
    }
   ],
   "source": [
    "data= pca_drug200$x[,c(1,5)]\n",
    "k=3\n",
    "fit<-kmeans(data, k)\n",
    "pairs(data, col=c(1:k)[fit$cluster])\n"
   ]
  },
  {
   "cell_type": "code",
   "execution_count": 70,
   "id": "a41f9e91",
   "metadata": {},
   "outputs": [
    {
     "data": {
      "image/png": "[encoded data removed]",
      "text/plain": [
       "plot without title"
      ]
     },
     "metadata": {},
     "output_type": "display_data"
    }
   ],
   "source": [
    "k=4\n",
    "fit<-kmeans(data, k)\n",
    "pairs(data, col=c(1:k)[fit$cluster])"
   ]
  },
  {
   "cell_type": "code",
   "execution_count": 71,
   "id": "dba5e664",
   "metadata": {},
   "outputs": [
    {
     "data": {
      "image/png": "[encoded data removed]",
      "text/plain": [
       "plot without title"
      ]
     },
     "metadata": {},
     "output_type": "display_data"
    }
   ],
   "source": [
    "k=5\n",
    "fit<-kmeans(data, k)\n",
    "pairs(data, col=c(1:k)[fit$cluster])"
   ]
  },
  {
   "cell_type": "markdown",
   "id": "c45aca25",
   "metadata": {},
   "source": [
    "__One of best ways to find the right number of clusters is the Elbow method__"
   ]
  },
  {
   "cell_type": "code",
   "execution_count": 72,
   "id": "7c0e9d6d",
   "metadata": {},
   "outputs": [],
   "source": [
    "library(\"NbClust\")"
   ]
  },
  {
   "cell_type": "markdown",
   "id": "e633e3db",
   "metadata": {},
   "source": [
    "fviz_nbclust(data, kmeans, method = \"wss\")"
   ]
  },
  {
   "attachments": {
    "Elbow%20method.jpeg": {
     "image/jpeg": "[encoded data removed]"
    }
   },
   "cell_type": "markdown",
   "id": "a623edbb",
   "metadata": {},
   "source": [
    "![Elbow%20method.jpeg](attachment:Elbow%20method.jpeg)"
   ]
  },
  {
   "cell_type": "markdown",
   "id": "3661f4e0",
   "metadata": {},
   "source": [
    "According to the Elbow Method the best number of cluster is 3"
   ]
  },
  {
   "cell_type": "markdown",
   "id": "1b668ed0",
   "metadata": {},
   "source": [
    "# Conclusion"
   ]
  },
  {
   "cell_type": "markdown",
   "id": "ae8a7910",
   "metadata": {},
   "source": [
    "In conclusion, is possible to predict the type of Drug that can be used based on the feature:\n",
    "\n",
    "•__Drug Y__ are usefull for __high level of Sodium to Potassium ratio__\n",
    "\n",
    "•__Drug C__ is usefull for __low blood pressure__\n",
    "\n",
    "•__Drug A__ and __Drug B__ are usefull for __high blood pressure__, but people under 50 take a and people over 50 take b\n",
    "\n",
    "•The most usefull drug, that can help a __generical patient__ is the __Drug Y__"
   ]
  }
 ],
 "metadata": {
  "kernelspec": {
   "display_name": "R",
   "language": "R",
   "name": "ir"
  },
  "language_info": {
   "codemirror_mode": "r",
   "file_extension": ".r",
   "mimetype": "text/x-r-source",
   "name": "R",
   "pygments_lexer": "r",
   "version": "3.6.1"
  }
 },
 "nbformat": 4,
 "nbformat_minor": 5
}
